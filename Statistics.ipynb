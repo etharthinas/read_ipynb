{
 "cells": [
  {
   "cell_type": "markdown",
   "id": "133246bc",
   "metadata": {},
   "source": [
    "## Statistics"
   ]
  },
  {
   "cell_type": "markdown",
   "id": "a0353cec",
   "metadata": {},
   "source": [
    "### I. Basics of Statistics"
   ]
  },
  {
   "cell_type": "markdown",
   "id": "917e40ce",
   "metadata": {},
   "source": [
    "#### I.1 Definition of Statistics"
   ]
  },
  {
   "cell_type": "markdown",
   "id": "79297790",
   "metadata": {},
   "source": [
    "Etymology of \"Statistics\": state + arithmetic <br>\n",
    "$\\rightarrow$ In ancient times statistics were often used by the state."
   ]
  },
  {
   "cell_type": "markdown",
   "id": "2ed85300",
   "metadata": {},
   "source": [
    "With the recent advent of \"Big Data\" and and rise of computing powers, <br>\n",
    "statistics are becoming very important. <br>\n",
    "As J. Neyman said, \"Statistics is the servant of all sciences\""
   ]
  },
  {
   "cell_type": "markdown",
   "id": "c1d38024",
   "metadata": {},
   "source": [
    "Statistics: the discipline that concerns the collection, organization, <br> \n",
    "analysis, interpretation, and presentation of data."
   ]
  },
  {
   "cell_type": "markdown",
   "id": "2bcb7006",
   "metadata": {},
   "source": [
    "#### I.2 Collection of Data"
   ]
  },
  {
   "cell_type": "markdown",
   "id": "8d26c09c",
   "metadata": {},
   "source": [
    "##### Qualitative Data (질적자료): <br>\n",
    "- categorical data\n",
    "- non-computable\n",
    "\n",
    "$\\rightarrow$ nominal data: doesn't have any order. ex. blood type<br>\n",
    "$\\rightarrow$ ordinal data: has a comparable order. ex. preference (is not quantitative)"
   ]
  },
  {
   "cell_type": "markdown",
   "id": "47997f27",
   "metadata": {},
   "source": [
    "##### Quantitative Data (양적자료): <br>\n",
    "$\\rightarrow$ continuous data. ex. height <br>\n",
    "$\\rightarrow$ discrete data: ex. population"
   ]
  },
  {
   "cell_type": "markdown",
   "id": "b36eabbf",
   "metadata": {},
   "source": [
    "Observation vs Experiment: Observation (관측) is just observing the population, <br>\n",
    "while Experiments (실험) use control groups to measure the effect of a specific variable."
   ]
  },
  {
   "cell_type": "markdown",
   "id": "0b4ced5c",
   "metadata": {},
   "source": [
    "- Explanatory Variable (설명변수): the variable the affects the response variable.\n",
    "- Response Variable (반응변수): the variable one wants to measure.\n",
    "- Population (모집단): the whole set about which one wants to get information about.\n",
    "- Sample (표본): the sample of the population.\n",
    "- Unit (개체): each indiviual element of the population.\n",
    "- Characteristic (특성): features the define the unit.\n",
    "- Parameter (모수): features that define the population."
   ]
  },
  {
   "cell_type": "markdown",
   "id": "254d5ec8",
   "metadata": {},
   "source": [
    "##### Sampling: <br>\n",
    "- Sampling is choosing a small proportion of the population (cf. census)\n",
    "- Simple Random Sampling: randomly choose a certain number of units from the population.\n",
    "- Against Bias: one needs to set up the sampling process so that the sample <br>\n",
    "represents the population well."
   ]
  },
  {
   "cell_type": "markdown",
   "id": "3fa49e3f",
   "metadata": {},
   "source": [
    "### II. Descriptive Statistics"
   ]
  },
  {
   "cell_type": "markdown",
   "id": "0412aa57",
   "metadata": {},
   "source": [
    "Descriptive Statistics: the summarization of data <br> \n",
    "$\\rightarrow$ average, variance, correlation"
   ]
  },
  {
   "cell_type": "markdown",
   "id": "b09cf71b",
   "metadata": {},
   "source": [
    "#### II.1 Graphical Representation of Data"
   ]
  },
  {
   "cell_type": "markdown",
   "id": "86ce26a0",
   "metadata": {},
   "source": [
    "- Frequency Distribution Table: display freq. or relative freq. on a table.\n",
    "- Bar Charts, Pie Charts\n",
    "- Histograms: divide the data into bins, and display the data like a bar chart. <br>\n",
    "The area of the boxes are proportional to the frequency. <br>\n",
    "The skewedness, shape, and the number of modes of data\n",
    "- Stem Graphs\n",
    "- Box Plots: five-number summary (mean, $Q_1$, $Q_3$, max, min). <br>\n",
    "The range between $Q_1$ and $Q_3$ is called in InterQuartile Range (IQR)\n",
    "- Box-and-Whisker Plots: draw whiskers from <br> \n",
    "$Q_1 - 1.5$ IQR to $Q_3 + 1.5$ IQR, and draw outliers.\n",
    "- Time Series Plot\n",
    "- Contingency Table: a multi-dimensional FDT.\n",
    "- Scatter Plots"
   ]
  },
  {
   "cell_type": "markdown",
   "id": "e5622e3b",
   "metadata": {},
   "source": [
    "#### II.2 Measure of Location"
   ]
  },
  {
   "cell_type": "markdown",
   "id": "371bd308",
   "metadata": {},
   "source": [
    "1. Mean: $\\frac {\\sum_{i=1}^n x_i}{n}$ <br>\n",
    "Sample Mean: $\\hat x$, the mean of the sample. <br>\n",
    "$\\rightarrow$ Means are subject to fluctuations caused by outliers. <br> \n",
    "10% elimination mean: remove the outlying 10% and then find the mean. <br>\n",
    "<br>\n",
    "\n",
    "2. Median: the middle value when one sorted the values. <br>\n",
    "$\\rightarrow$ Not easily affected by outliers. <br>\n",
    "The $p^{th}$ percentile: $(n+1)\\frac{p}{100}^{th}$ data, where n is the number of data.\n",
    "<br> \n",
    "Use linear interpolation to fill in. <br> <br>\n",
    "\n",
    "3. Mode: the value which frequency is the highest."
   ]
  },
  {
   "cell_type": "markdown",
   "id": "253b76e4",
   "metadata": {},
   "source": [
    "Symmetric: mean = median = mode <br>\n",
    "Negatively Skewed (left-tail): mean < median < mode <br>\n",
    "Positively Skewed (right-tail): mean > medan > mode"
   ]
  },
  {
   "cell_type": "markdown",
   "id": "c2bc853e",
   "metadata": {},
   "source": [
    "#### II.3 Measure of Variance"
   ]
  },
  {
   "cell_type": "markdown",
   "id": "762edf67",
   "metadata": {},
   "source": [
    "1. Mean Absolute Deviation (MAD) <br>\n",
    "MAD = $\\frac {1}{N} \\sum_{i=1}^N |c_i - Q_2|$ <br>\n",
    "$\\rightarrow$ sum of deviations from the <strong> median </strong>. <br><br>\n",
    "2. Interquartile Range (IQR) <br>\n",
    "IQR = $Q_3 - Q_1$ <br><br>\n",
    "3. Variance and Standard Deviation <br>\n",
    "$\\sigma^2 = \\frac{1}{N} \\sum_{i=1}^N (c_i - \\mu)^2$ <br>\n",
    "$\\sigma = \\sqrt{\\sigma^2}$ <br><br>\n",
    "4. Sample Variance and Sample Standard Deviation <br>\n",
    "$s^2 = \\frac{1}{n-1} \\sum_{i=1}^n(x_i - \\hat x)^2$ <br>\n",
    "$s = \\sqrt{s^2}$ <br>\n",
    "$s^2 = \\sum x_i^2 - n \\hat x^2$"
   ]
  },
  {
   "cell_type": "markdown",
   "id": "c9d46381",
   "metadata": {},
   "source": [
    "#### II.4 Measure of Correlation"
   ]
  },
  {
   "cell_type": "markdown",
   "id": "883f4a78",
   "metadata": {},
   "source": [
    "1. Covariance <br>\n",
    " $ rs_1s_2 = \\frac{1}{N} \\sum_{i=1}^N (x_i - \\hat x)(y_1 - \\hat y)$ <br>\n",
    " If $rs_1s_2$ is positive, they have a positive correlation: <br>\n",
    " As x increases, y increases. <br>\n",
    " If negative, vice versa.\n",
    "2. Correlation Coefficient <br>\n",
    "Standardizing covariance. <br>\n",
    "$r = \\frac {rs_1s_2}{s_1s_2}$ <br>\n",
    "Always, $-1 \\leq r \\leq 1$"
   ]
  },
  {
   "cell_type": "markdown",
   "id": "0f2b2e68",
   "metadata": {},
   "source": [
    "### III. Probability"
   ]
  },
  {
   "cell_type": "markdown",
   "id": "3947ac88",
   "metadata": {},
   "source": [
    "#### III.1 Probability"
   ]
  },
  {
   "cell_type": "markdown",
   "id": "f7b4d6cf",
   "metadata": {},
   "source": [
    "* Elementary Event: an event consisting of one element.\n",
    "* Sample Space: the sum of all possible elemenrtary event. <br>\n",
    "It has to me exhaustive and mutually exclusive."
   ]
  },
  {
   "cell_type": "markdown",
   "id": "1b9b8b3c",
   "metadata": {},
   "source": [
    "##### The Classical Definition of Probability: <br>\n",
    "If the likelihood of all N Elementary Events <br> \n",
    "in the sample space is the the same, <br>\n",
    "then the probability of event A consisting of M events is defined thus: <br>\n",
    "$P(A) = \\frac{M}{N}$ <br>\n",
    "$\\rightarrow$ only applicable if the sample space has discrete finite events."
   ]
  },
  {
   "cell_type": "markdown",
   "id": "1f5d1473",
   "metadata": {},
   "source": [
    "##### The Axiomatic Definition of Probability: <br>\n",
    "$P(A)$ is defined the probability of A when <br>\n",
    "1. For an arbitary A in the sample space S, $0 \\leq P(A) \\leq 1$\n",
    "2. $P(S) = 1$\n",
    "3. For exclusive events $A_i$, <br>\n",
    "    $P(A_1 \\cup A_2 \\cup ... ) = P(A_1) + P(A_2) + ...$"
   ]
  },
  {
   "cell_type": "markdown",
   "id": "d7dddafd",
   "metadata": {},
   "source": [
    "##### Properties of Probability: <br>\n",
    "1. $P(A \\cup B) = P(A) + P(B) - P(A \\cap B)$\n",
    "2. $P(A) = 1 - P(A^C)$\n",
    "3. If $A \\subset B, P(A) \\leq P(B)$"
   ]
  },
  {
   "cell_type": "markdown",
   "id": "a4775937",
   "metadata": {},
   "source": [
    "#### III.2 Conditional Probability"
   ]
  },
  {
   "cell_type": "markdown",
   "id": "2a0a457b",
   "metadata": {},
   "source": [
    "##### Conditional Probability: <br>\n",
    "Condtional Probability: <br>\n",
    "$P(B|A)$ is the probability of B happening in the event that A happened. <br>\n",
    "$P(B|A) = \\frac{P(A \\cup B)}{P(A)}$ "
   ]
  },
  {
   "cell_type": "markdown",
   "id": "0f82bbce",
   "metadata": {},
   "source": [
    "##### Properties of Conditional Probability: <br>\n",
    "\n",
    "The Multiplication Rule: <br>\n",
    "$ P(A \\cap B) = P(A|B)P(B) = P(B|A)P(A)$ <br><br>\n",
    "\n",
    "Law of Total Probability: <br>\n",
    "If $A_i$ is exclusive and their sum is S, <br>\n",
    "$P(B) = P(A_1 \\cap B) + ... + P(A_n \\cap B)$ <br>\n",
    "$= P(B|A_1)P(A_1) + ... + P(B|A_n)P(A_n)$"
   ]
  },
  {
   "cell_type": "markdown",
   "id": "bffa5768",
   "metadata": {},
   "source": [
    "##### Bayes Theorem: <br>\n",
    "$P(A_i | B) = \\frac {P(A_i \\cap B)}{P(B)}$ <br>\n",
    "$ = \\frac{P(A_i)P(B|A_i)}{P(A_1)P(B|A_1) + ... + P(A_n)P(B|A_n)}$ <br>\n",
    "Prior Probability: $P(A_i)$ before B happened. <br>\n",
    "Posterior Probability: $P(A_i | B)$ after B happened."
   ]
  },
  {
   "cell_type": "markdown",
   "id": "15979cf8",
   "metadata": {},
   "source": [
    "##### Independent Events: <br>\n",
    "If two events are not related, they are called independent. <br>\n",
    "If $P(B) = P(B|A)$, A and B is independent."
   ]
  },
  {
   "cell_type": "markdown",
   "id": "186bd17f",
   "metadata": {},
   "source": [
    "#### III.3 Random Variables"
   ]
  },
  {
   "cell_type": "markdown",
   "id": "fd40a040",
   "metadata": {},
   "source": [
    "Random Variable: <br>\n",
    "a relation between an event over the sample space S and its probability. <br><br>\n",
    "Probability Distribution: the distribution of the random variable\n",
    "<br> and the probability assigned to it."
   ]
  },
  {
   "cell_type": "markdown",
   "id": "16d7f763",
   "metadata": {},
   "source": [
    "Discrete Random Variable: <br>\n",
    "Its probability function is called the \n",
    "<strong> probability mass function. </strong> <br> <br>\n",
    "\n",
    "Continuous Random Variable: <br>\n",
    "Its probability function is called the \n",
    "<strong> probability density function. </strong> <br>\n",
    "Probabilities can only be calculated between intervals. <br>\n",
    "$P(a \\leq X \\leq b) = \\int_{a}^{b}p(x)dx$ <br> <br>\n",
    "\n",
    "Properties of Probability Function: <br>\n",
    "* $p(x) \\geq 0$.\n",
    "* The sum of $p(x) = 1$."
   ]
  },
  {
   "cell_type": "markdown",
   "id": "d261f5e5",
   "metadata": {},
   "source": [
    "##### Expected Value: <br>\n",
    "* Discrete case: $E(X) = \\sum x p(x)$\n",
    "* Continuous case: $E(X) = \\int_{-\\infty}^{\\infty} x p(x) dx$\n",
    "<br> <br>\n",
    "Functions of random variables are also random variables. <br>\n",
    "* Discrete case: $E(g(X)) = \\sum g(x) p(x)$\n",
    "* Continuous case: $E(g(X)) = \\int_{-\\infty}^{\\infty} g(x) p(x) dx$\n",
    "* $E(aX + b) = aE(X) + b$\n",
    "* $E(c_1 g_1(X) + c_2 g_2 (X)) = c_1 E(g_1(X)) + c_2 E(g_2(X))$"
   ]
  },
  {
   "cell_type": "markdown",
   "id": "a3780948",
   "metadata": {},
   "source": [
    "##### Variance: <br>\n",
    "$Var(X) = E(X^2) - E(X)^2$ <br>\n",
    "$Var(aX + b) = a^2 Var(X)$ <br> <br>\n",
    "$\\rightarrow$ Standardization: $Z = \\frac{X- E(X)}{\\sigma(X)}$"
   ]
  },
  {
   "cell_type": "markdown",
   "id": "37f2b10d",
   "metadata": {},
   "source": [
    "##### Joint Probability Distribution: <br>\n",
    "\n",
    "Joint Probability Mass Function: $p(x, y) = P(X = x_i, Y = y_j),$ <br> \n",
    "for $(x, y) = (x_i, y_j), (i, j = 1, 2, ....)$ <br>\n",
    "* $ 0 \\leq p(x, y) \\leq 1$\n",
    "* $ P(a < X \\leq b, c < Y \\leq d) = \\sum_{a < X \\leq b} \\sum_{c < Y \\leq d} p(x, y)$ \n"
   ]
  },
  {
   "cell_type": "markdown",
   "id": "2109de30",
   "metadata": {},
   "source": [
    "##### Marginal Probability Mass Function: <br>\n",
    "* $p_1(x) = \\sum_{y} p(x, y)$\n",
    "* $p_2(y) = \\sum_{x} p(x, y)$ <br>\n",
    "\n",
    "If $p(x, y) = p_1(x)p_2(y)$ for all $(x, y)$, then x and y is independent. <br>"
   ]
  },
  {
   "cell_type": "markdown",
   "id": "a5f74a6f",
   "metadata": {},
   "source": [
    "##### Expected Value of Multivariates: <br>\n",
    "* $E(g(X, Y)) = \\sum_{x} \\sum_{y} g(x, y)p(x, y)$\n",
    "* $E(c_1 g_1 (X, Y) + c_2 g_2 (X, Y)) = c_1 E(g_1 (X, Y)) + c_2 E(g_2(X, Y))$\n",
    "* $E(X+Y) = E(X) + E(Y)$ <br>"
   ]
  },
  {
   "cell_type": "markdown",
   "id": "0678b2a7",
   "metadata": {},
   "source": [
    "##### Covariance: <br>\n",
    "Covariance: $Cov(X, Y) = E(X - \\mu_x)E(Y - \\mu_y) = E(XY) - E(X)E(Y)$ <br>\n",
    "Correlation: $Corr(X, Y) = \\frac {Cov(X, Y)}{\\sigma(x) \\sigma(y)}$ <br> <br>\n",
    "* $Cov(aX + b, cY + d) = ac Cov(X, Y)$ <br>\n",
    "* $Corr (aX + b, cY + d) = \\frac{ac}{|ac|} Corr(X, Y)$\n",
    "* $Var(X+Y) = Var(X) + Var(Y) + 2 Cov(X, Y)$"
   ]
  },
  {
   "cell_type": "markdown",
   "id": "e7325cd1",
   "metadata": {},
   "source": [
    "##### Independence: <br>\n",
    "If X and Y are independent:\n",
    "* $E(XY) = E(X)E(Y)$\n",
    "* $Cov(X, Y) = 0, Corr(X, Y) = 0$ (but not vice versa)\n",
    "* $Var(X + Y) = Var(X) + Var(Y), Var(X - Y) = Var (X) + Var(Y)$"
   ]
  },
  {
   "cell_type": "markdown",
   "id": "9d2dce92",
   "metadata": {},
   "source": [
    "### IV. Probability Distributions"
   ]
  },
  {
   "cell_type": "markdown",
   "id": "21915794",
   "metadata": {},
   "source": [
    "#### IV.1 Discrete Distributions"
   ]
  },
  {
   "cell_type": "markdown",
   "id": "55d63401",
   "metadata": {},
   "source": [
    "##### Bernoulli Distribution: <br>\n",
    "A distribution where the only possible X's are 0 and 1. <br>\n",
    "$X \\text{~} Bern(p)$ <br>\n",
    "PMF: $p(x) = p^x (1-p)^{1-x} = \\begin{cases} p & \\text{if} \\ X = 1 \\\\ 1-p & \\text{if} \\ X = 0\\end{cases}$\n",
    "<br> $E(X) = p$ <br>\n",
    "$Var(X) = p(1-p)$"
   ]
  },
  {
   "cell_type": "markdown",
   "id": "d345026b",
   "metadata": {},
   "source": [
    "##### Binomial Distribution: <br>\n",
    "A distribution where X is the number of successes in n tries. <br>\n",
    "$X \\text{~} B(n, p)$ <br>\n",
    "PMF: $p(x) = {n \\choose x} p^x (1-p)^{n-x}$ <br>\n",
    "$E(X) = np$ <br>\n",
    "$Var(X) = np(1-p) $<br>\n"
   ]
  },
  {
   "cell_type": "markdown",
   "id": "1a4df9b9",
   "metadata": {},
   "source": [
    "##### Hypergeometric Distribution: <br>\n",
    "A distribution where X is the number of 1s in n tries in <br> \n",
    "sampling without replacements, where there are D 1s and N-D 0s. <br>\n",
    "\n",
    "$X \\text{~} Hyp(n, D, N)$ <br>\n",
    "PMF: $p(x) = \\frac{{D \\choose x}{N-D \\choose n-x}}{N \\choose n}$ <br>\n",
    "$E(X) = np$ &emsp; $p = \\frac{D}{N}$ <br>\n",
    "$Var(X) = np(1-p) \\frac {N - n}{N - 1}$ <br>\n",
    "\n",
    "The hypergeomtric is approaches the binomial as \n",
    "$N \\rightarrow \\infty, D \\rightarrow \\infty, \\frac {D}{N} \\rightarrow p$"
   ]
  },
  {
   "cell_type": "markdown",
   "id": "84f67498",
   "metadata": {},
   "source": [
    "#### IV.2 Continuous Distributions"
   ]
  },
  {
   "cell_type": "markdown",
   "id": "74d0f6e1",
   "metadata": {},
   "source": [
    "##### Uniform Distribution: <br>\n",
    "$X \\text{~} U(a, b)$ <br>\n",
    "PDF: $p(x) = \n",
    "\\begin{cases} \\frac {1}{b-a} & \\ a \\leq x \\leq b \\\\ 0 & \\text{otherwise} \\end{cases}$ <br>\n",
    "$E(X) = \\frac {a+b} {2}$<br>\n",
    "$Var(X) = \\frac{(b-a)^2}{12}$"
   ]
  },
  {
   "cell_type": "markdown",
   "id": "b658b34b",
   "metadata": {},
   "source": [
    "##### Normal Distribution: <br>\n",
    "$X \\text{~} N(\\mu, \\sigma^2)$ <br>\n",
    "PDF: $p(x) = \\frac{1}{\\sqrt{2 \\pi}\\sigma} e^{-\\frac{1}{2\\sigma^2} (x-\\mu)^2} \n",
    "-\\infty < x < \\infty$ <br>\n",
    "$E(X) = \\mu$ <br>\n",
    "$Var(X) = \\sigma ^2$ <br>\n",
    "The PDF is the symmetric across $\\mu$. <br>\n",
    "The distance from the center to the inflection point is $\\sigma$.<br><br>\n",
    "\n",
    "The Standard Normal Distribution: $Z \\text{~} N(0, 1)$, where $Z = \\frac{X - \\mu}{\\sigma}$ <br>\n",
    "$z_\\alpha:$ the z that makes $P(Z > z_\\alpha) = \\alpha$ <br>\n",
    "* $z_{0.005}$ = 2.58\n",
    "* $z_{0.025}$ = 1.96\n",
    "* $z_{0.05}$ = 1.645"
   ]
  },
  {
   "cell_type": "markdown",
   "id": "a57b41b7",
   "metadata": {},
   "source": [
    "#### IV.3 Distribution of Estimations"
   ]
  },
  {
   "cell_type": "markdown",
   "id": "a6b0be73",
   "metadata": {},
   "source": [
    "Estimator: a variable used to estimate the parameters of the distribution of the population. \n",
    "<br> $\\rightarrow \\hat X, \\hat S$ etc for $\\mu, \\sigma$ etc\n",
    "\n",
    "Estimate: the value of the estimator."
   ]
  },
  {
   "cell_type": "markdown",
   "id": "20420684",
   "metadata": {},
   "source": [
    "##### Simple Random Sampling: <br>\n",
    "Sampling such that the probability of the $N$ elements of the <br>\n",
    "population being sampled is the same. <br>\n",
    "The samples can be replaced or not replaced. <br>\n",
    "If $N$ is sufficiently bigger than the sample $n$, replacements does not affect the overall result."
   ]
  },
  {
   "cell_type": "markdown",
   "id": "847bbb5a",
   "metadata": {},
   "source": [
    "##### Random Sample: <br>\n",
    "$X = \\{X_1, X_2, ... X_n\\}$ <br>\n",
    "In infinite populations, $X_i \\text{~}_{iid} f(x)$ where $f(x)$ is the \n",
    "distribution of the population. <br>\n",
    "IID means independent and identically distributed."
   ]
  },
  {
   "cell_type": "markdown",
   "id": "bda42c72",
   "metadata": {},
   "source": [
    "##### Distribution of the Sample: <br>\n",
    "The mean-estimator of the sample, $\\hat X$ is distributed thus: <br>\n",
    "* $E(\\hat X) = \\mu$\n",
    "* $Var(\\hat X) = \\frac{\\sigma^2}{n}$ <br>\n",
    "\n",
    "Where $\\mu, \\sigma^2$ is the mean and variance of the population, <br>\n",
    "and $n$ is the number of the sample. <br>\n",
    "If the population follows a normal distribution $N(\\mu, \\sigma^2)$, <br>\n",
    "$\\hat X \\text{~} N(\\mu, \\frac{\\sigma^2}{n})$"
   ]
  },
  {
   "cell_type": "markdown",
   "id": "e3e0da73",
   "metadata": {},
   "source": [
    "##### Central Limit Theorem: <br>\n",
    "For a big $n$ $(n > 30)$, <br>\n",
    "$\\hat X$ approximately follows $N(\\mu, \\frac{\\sigma^2}{n})$"
   ]
  },
  {
   "cell_type": "markdown",
   "id": "248713c4",
   "metadata": {},
   "source": [
    "##### T-Distribution: <br>\n",
    "\n",
    "The distribution that comes from the mean of a sample with $n$. <br>\n",
    "$\\frac {X - \\mu}{\\frac{S}{\\sqrt {n}}} \\text{~} T(n-1)$ &emsp; $n$ is the degree of freedom.\n",
    "<br> also, $T(k) = \\frac{Z}{\\sqrt{\\frac{V}{k}}}$, where $Z \\text{~} N(0, 1)$ and $V \\text{~} \\chi^2(k)$"
   ]
  },
  {
   "cell_type": "markdown",
   "id": "124a27fd",
   "metadata": {},
   "source": [
    "##### Sample Proportions: <br>\n",
    "\n",
    "$\\hat p$: the proportion of success in $n$ tries.\n",
    "$\\hat p \\text{~} \\frac{B(n, p)}{n}$ <br>\n",
    "$E(\\hat p) = p$ <br>\n",
    "$Var(\\hat p) = \\frac{p(1-p)}{n}$"
   ]
  },
  {
   "cell_type": "markdown",
   "id": "1abc50dc",
   "metadata": {},
   "source": [
    "##### The Binomial and the Normal: <br>\n",
    "If $n$ is very big, <br>\n",
    "$B(n, p) \\approx N(np, np(1-p))$ <br>\n",
    "Needs Continuity Correction for more preciseness. <br>\n",
    "Q-Q Plot: plots the percentile values for normal distributions. <br>\n",
    "$\\rightarrow X = \\sigma Z + \\mu$"
   ]
  },
  {
   "cell_type": "markdown",
   "id": "2cd06545",
   "metadata": {},
   "source": [
    "### V. Statistical Inference"
   ]
  },
  {
   "cell_type": "markdown",
   "id": "5c0c0788",
   "metadata": {},
   "source": [
    "#### V.1 Estimation"
   ]
  },
  {
   "cell_type": "markdown",
   "id": "76b49040",
   "metadata": {},
   "source": [
    "##### Estimation: <br>\n",
    "Inferring parameters of the original distribution using a sample. <br>\n",
    "Point-Estimation: estimating the parameter as a certain number. <br>\n",
    "Interval-Estimation: estimating the interval in which the parameter is likely to be. <br>\n",
    "\n",
    "<br> Standard Error: $SE(\\mu) = \\frac{\\sigma}{\\sqrt{n}}$ or $\\frac{S}{\\sqrt{n}}$"
   ]
  },
  {
   "cell_type": "markdown",
   "id": "d5579671",
   "metadata": {},
   "source": [
    "##### Good Estimators: <br>\n",
    "The Sampling Error: $\\hat \\theta - \\theta = \\hat X - E(\\hat X) + E(\\hat X) - \\mu$ <br>\n",
    "Bias: $E(\\hat X) - \\mu$ <br>\n",
    "Variance: $ \\hat X - E(\\hat X)$ <br>\n",
    "\n",
    "Unbiasedness: $E(\\hat X) - \\mu = 0$ <br>\n",
    "Efficiency: the standard deviation of the sample must be low. <br>\n",
    "Consistency: as $n$ increases, the point estimator approaches the parameter."
   ]
  },
  {
   "cell_type": "markdown",
   "id": "decad962",
   "metadata": {},
   "source": [
    "#### V.2 Interval Estimation"
   ]
  },
  {
   "cell_type": "markdown",
   "id": "4e3c94ae",
   "metadata": {},
   "source": [
    "##### Interval Estimation: <br>\n",
    "Confidence Interval for $\\alpha$: $[\\hat x - z_\\frac{\\alpha}{2} SE(\\mu),\n",
    "\\hat x + z_\\frac{\\alpha}{2} SE(\\mu)]$ &emsp; $z_\\alpha$ is the Z-probability constant. <br>\n",
    "Meaning of the Confidence Interval: <br>\n",
    "The probability that the varying intervals contain the constant $\\mu$ is $\\alpha$. <br>\n",
    "For symmetric distributions, it is optimal to use symmetric CIs. <br> <br>\n",
    "\n",
    "If one does not know the Standard Deviation, one uses the t-distribution. <br>\n",
    "$[\\hat x - t_\\frac{\\alpha}{2}(n-1) SE(\\mu), \\hat x + t_\\frac{\\alpha}{2}(n-1) SE(\\mu)]$ \n",
    "&emsp; $t_\\alpha (n)$ is the t-probability constant. <br>\n",
    "(If $n$ is sufficiently big, then one can use the normal distribution) <br> <br>\n",
    "$n \\geq (\\frac{z_{\\frac{\\alpha}{2}} \\sigma}{d})^2$ <br> <br>\n",
    "\n",
    "For Proportions: $n \\geq \\frac{1}{4} (\\frac{z_{\\frac{\\alpha}{2}}}{d})^2$"
   ]
  },
  {
   "cell_type": "markdown",
   "id": "56611790",
   "metadata": {},
   "source": [
    "#### V.3 Hypothesis Testing"
   ]
  },
  {
   "cell_type": "markdown",
   "id": "2907abd4",
   "metadata": {},
   "source": [
    "##### Hypothesis Testing: <br>\n",
    "\n",
    "Hypothesis: a statement about a parameter or statistic. <br>\n",
    "Null Hypothesis $(H_0)$: a statement that one wants to disprove. The default statement. <br>\n",
    "$\\rightarrow$ $H_0$ must contain the equals statement. ex. $\\mu = 3$ <br>\n",
    "Alternate Hypothesis $(H_1)$: the statement that the Null Hypothesis is false. <br>\n",
    "$\\rightarrow$ one-tailed: $H_1$ : $\\mu < 3$. <br>\n",
    "$\\rightarrow$ double-tailed: $H_1$ : $\\mu \\neq 3$ <br>\n",
    "If $P(X > \\hat X) < p$  (the significance level), regard $H_1$ as true. <br>\n",
    "Else, regard $H_0$ as true. <br><br>\n",
    "\n",
    "If one knows $\\sigma$: use $Z$. <br>\n",
    "If one does not know $\\sigma$: use $T(n-1)$"
   ]
  },
  {
   "cell_type": "markdown",
   "id": "ad473bdf",
   "metadata": {},
   "source": [
    "##### Type I Errors and Type II Errors: <br>\n",
    "Type I Errors ($\\alpha$): thinks $H_0$ is false even though it is true $\\rightarrow$ same as $p$. <br>\n",
    "Type II Errors ($\\beta$): think $H_1$ is false even though it is true $\\rightarrow$ same as \n",
    "Type I Error probability when the Null Hypothesis is $H_1$."
   ]
  },
  {
   "cell_type": "markdown",
   "id": "69c2554e",
   "metadata": {},
   "source": [
    "$\\begin{bmatrix} & Truth : H_0 & Truth: H_1 \\\\ Test: H_0 & 1-\\alpha & Type  \\ II \\ (\\beta) \\\\ Test: H_1 & Type \\ I \\ (\\alpha) & 1 - \\beta \\end{bmatrix}$ \n",
    "&emsp; $1-\\beta$ is the power of the test"
   ]
  },
  {
   "cell_type": "markdown",
   "id": "b0cc35a9",
   "metadata": {},
   "source": [
    "##### Estimation of Proportions: <br>\n",
    "\n",
    "Hypothesis testing of proportions: assume a Binomial Distribution $B(n, \\hat p)$."
   ]
  },
  {
   "cell_type": "markdown",
   "id": "6d6b9937",
   "metadata": {},
   "source": [
    "### VI. The Hypothesis Testing About Distributions"
   ]
  },
  {
   "cell_type": "markdown",
   "id": "ee044158",
   "metadata": {},
   "source": [
    "#### VI.1 The Chi-Square Distribution"
   ]
  },
  {
   "cell_type": "markdown",
   "id": "36b27710",
   "metadata": {},
   "source": [
    "##### $\\chi^2$ Distribution: <br>\n",
    "Let $Z_1, Z_2,... Z_k$ be random independent variables following $N(0,1)$: <br>\n",
    "$Z_1^2 + Z_2^2 + ... Z_k^2\\text{~}\\chi^2(k)$"
   ]
  },
  {
   "cell_type": "markdown",
   "id": "22f11aae",
   "metadata": {},
   "source": [
    "##### Testing the Sample Variance: <br>\n",
    "$\\frac{(n-1)S^2}{\\sigma^2}\\text{~}\\chi^2(n-1)$, <br>\n",
    "where $S$ is the sample variance from $N(\\mu,\\sigma^2)$ <br><br>\n",
    "$\\chi^2_\\alpha$: <br>\n",
    "For $V\\text{~}\\chi^2(k)$,\n",
    "$P(V \\geq \\chi^2_\\alpha(k)) = \\alpha$ <br><br>\n",
    "The Interval Testing for the Variance: <br>\n",
    "$[\\frac{(n-1)s^2}{\\chi^2_{\\alpha/2}(n-1)},\\frac{(n-1)s^2}{\\chi^2_{1-\\alpha/2}(n-1)}$]"
   ]
  },
  {
   "cell_type": "markdown",
   "id": "daa19314",
   "metadata": {},
   "source": [
    "##### Addivitity of $\\chi^2$: <br>\n",
    "For $V_1\\text{~}\\chi^2(k_1), V_2\\text{~}\\chi^2(k_2)$ <br>\n",
    "$V_1 + V_2 \\text{~}\\chi^2(k_1 + k_2)$"
   ]
  },
  {
   "cell_type": "markdown",
   "id": "8466949f",
   "metadata": {},
   "source": [
    "#### VI.2 Distribution of $\\hat x_1 - \\hat x_2$"
   ]
  },
  {
   "cell_type": "markdown",
   "id": "0d21846e",
   "metadata": {},
   "source": [
    "If $x_1 \\text{~} X_1, x_2 \\text{~} X_2$, <br>\n",
    "One can estimate the difference between the two means to be thus: <br>\n",
    "$\\hat{(\\mu_1 - \\mu_2)} = \\bar x_1 - \\bar x_2$ <br>\n",
    "$E(\\bar X_1 - \\bar X_2) = \\mu_1 - \\mu_2$ <br>\n",
    "$Var(\\bar X_1 - \\bar X_2) = Var(X_1) + Var(X_2) = \n",
    "\\frac{\\sigma^2_1}{n_1} + \\frac{\\sigma^2_2}{n_2}$"
   ]
  },
  {
   "cell_type": "markdown",
   "id": "cfcd5b28",
   "metadata": {},
   "source": [
    "##### $\\sigma^2$ is Known: <br>\n",
    "$Z = \\frac{(\\bar X_1 - \\bar X_2) - (\\mu_1 - \\mu_2)}\n",
    "{\\sqrt{\\frac{\\sigma_1^2}{n_1} + \\frac{\\sigma_2^2}{n_2}}} \\text{~} N(0,1)$"
   ]
  },
  {
   "cell_type": "markdown",
   "id": "2f20d650",
   "metadata": {},
   "source": [
    "##### $\\sigma$ is Unknown, But Homogeneious Variance: <br>\n",
    "$S_p^2 = \\frac{(n_1 - 1)S_1^2 + (n_2 - 1)S_2^2}{n_1 + n_2 - 2}$ <br>\n",
    "Assume $\\sigma^2 = S_p^2$ <br>\n",
    "$\\rightarrow \\hat {Var}(\\bar X_1 - \\bar X_2) = S_p^2(\\frac{1}{n_1} + \\frac{1}{n_2})$ <br>\n",
    "$T = \\frac{(\\bar X_1 - \\bar X_2) - (\\mu_1 - \\mu_2)}\n",
    "{S_p\\sqrt{\\frac{1}{n_1} + \\frac{1}{n_2}}} \\text{~} t_{(n_1 + n_2 -2)}$"
   ]
  },
  {
   "cell_type": "markdown",
   "id": "4d0caa84",
   "metadata": {},
   "source": [
    "##### $\\sigma$ is Unknown, and Difference Variance: <br>\n",
    "$\\hat {Var} (\\bar X_1 - \\bar X_2) = \\frac{s_1^2}{n_1} + \\frac{s_2^2}{n_2}$ <br>\n",
    "$T = \\frac{(\\bar X_1 - \\bar X_2) - (\\mu_1 - \\mu_2)}\n",
    "{\\sqrt{\\frac{S_1^2}{n_1} + \\frac{S_2^2}{n_2}}} \\text{~} t_{df}$ <br>\n",
    "Where $df = \\frac{{(S_1^2/n_1 + S_2^2/n_2)}^2}\n",
    "{\\frac{{S_1^2/n_1}^2}{n_1-1} + \\frac{{S_2^2/n_2}^2}{n_2-1}}$"
   ]
  },
  {
   "cell_type": "markdown",
   "id": "c2fce5fe",
   "metadata": {},
   "source": [
    "##### Paired Comparison: <br>\n",
    "$D = X - Y, E(D) = \\bar X - \\bar Y$ <br>\n",
    "$Var(\\bar D) = \\frac{s_D^2}{n}$ <br>\n",
    "$T = \\frac{\\bar D - \\mu_D}{\\sqrt{\\frac{S_D^2}{n}}} \\text{~} t_{n-1}$"
   ]
  },
  {
   "cell_type": "markdown",
   "id": "f6f99059",
   "metadata": {},
   "source": [
    "### VII. Homogeinity Testing"
   ]
  },
  {
   "cell_type": "markdown",
   "id": "b018ef6f",
   "metadata": {},
   "source": [
    "#### VI.1 Comparison between Categorical Distributions"
   ]
  },
  {
   "cell_type": "markdown",
   "id": "436c1bcd",
   "metadata": {},
   "source": [
    "### VIII. Regression"
   ]
  }
 ],
 "metadata": {
  "kernelspec": {
   "display_name": "Python 3 (ipykernel)",
   "language": "python",
   "name": "python3"
  },
  "language_info": {
   "codemirror_mode": {
    "name": "ipython",
    "version": 3
   },
   "file_extension": ".py",
   "mimetype": "text/x-python",
   "name": "python",
   "nbconvert_exporter": "python",
   "pygments_lexer": "ipython3",
   "version": "3.10.4"
  }
 },
 "nbformat": 4,
 "nbformat_minor": 5
}
