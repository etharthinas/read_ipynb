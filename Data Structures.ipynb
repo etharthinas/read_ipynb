{
 "cells": [
  {
   "cell_type": "markdown",
   "id": "fa59279a",
   "metadata": {},
   "source": [
    "## Data Structures"
   ]
  },
  {
   "cell_type": "markdown",
   "id": "454b33de",
   "metadata": {},
   "source": [
    "### I. Introduction to Data Structures"
   ]
  },
  {
   "cell_type": "markdown",
   "id": "4b718a26",
   "metadata": {},
   "source": [
    "#### I.1 What are Data Structures?"
   ]
  },
  {
   "cell_type": "markdown",
   "id": "6bdf4ae4",
   "metadata": {},
   "source": [
    "##### Data Structures: <br>\n",
    "Data Structures are building blocks of Algorithms. <br>\n",
    "Some Data Structures include Lists, Stacks, Queues, Trees, and Hash-Tables. <br>\n",
    "Data Structures are important not only because they are essential to programming, <br>\n",
    "but also because they train ways of thinking itself."
   ]
  },
  {
   "cell_type": "markdown",
   "id": "9f4a83b6",
   "metadata": {},
   "source": [
    "##### Abstract Data Types (ADT): <br>\n",
    "ADT is a model for data types. <br>\n",
    "It describes its behaviour in an abstract sense. <br>\n",
    "It presents data types as a list of what actions it does. <br>\n",
    "(It does not worry about implementation details) <br>\n",
    "$\\rightarrow$ usually in Java, <strong> interfaces </strong> are used for ADTs."
   ]
  },
  {
   "cell_type": "code",
   "execution_count": 1,
   "id": "74db4be2",
   "metadata": {},
   "outputs": [],
   "source": [
    "public interface ListInterface {\n",
    "    public void add(int i, Object x);\n",
    "    public int indexOf (Object x);\n",
    "    public void remove (int i);\n",
    "};"
   ]
  },
  {
   "cell_type": "markdown",
   "id": "68c4fdaf",
   "metadata": {},
   "source": [
    "#### I.2 Recursion"
   ]
  },
  {
   "cell_type": "markdown",
   "id": "f6a79f05",
   "metadata": {},
   "source": [
    "##### Recursion: <br>\n",
    "Recursion Algorithms are algorithms that calls itself repeatedly. <br>\n",
    "Recursion helps us unravel complex problems. <br>\n",
    "It is useful for sequences, sorting, and searching. <br>\n",
    "Although very useful when used well (ex. sorting), <br>\n",
    "it can be terrible in some places (ex. Fibonacci numbers)\n"
   ]
  },
  {
   "cell_type": "markdown",
   "id": "332f9213",
   "metadata": {},
   "source": [
    "##### Some examples of Recursion: <br>\n",
    "- Fibonacci Numbers (a terrible way to use recursion)\n",
    "- Factorials\n",
    "- The Hanoi Tower Problem\n",
    "- Sorting Problems"
   ]
  },
  {
   "cell_type": "code",
   "execution_count": 2,
   "id": "8c762bef",
   "metadata": {},
   "outputs": [],
   "source": [
    "// binarySearch\n",
    "\n",
    "int binarySearch (int A[], int x, int low, int high){\n",
    "    if (low > high){\n",
    "        return 0;\n",
    "    }\n",
    "    int mid = (low+high)/2;\n",
    "    if (A[mid] < x) return binarySearch(A, x, mid+1, high);\n",
    "    else if (A[mid] > x) return binarySearch(A, x, low, mid-1);\n",
    "    else return mid;\n",
    "}"
   ]
  },
  {
   "cell_type": "markdown",
   "id": "3384173d",
   "metadata": {},
   "source": [
    "#### I.3 Time Complexity"
   ]
  },
  {
   "cell_type": "markdown",
   "id": "3371bb79",
   "metadata": {},
   "source": [
    "Time Complexity: the measure of the time an algorithm takes to run. <br>\n",
    "It is described as a function of the input parameter n."
   ]
  },
  {
   "cell_type": "code",
   "execution_count": 3,
   "id": "a166ea8f",
   "metadata": {},
   "outputs": [],
   "source": [
    "// constant time (O(1))\n",
    "\n",
    "int sample1 (int n){\n",
    "    return n/2;\n",
    "}\n",
    "\n",
    "// linear time (O(n))\n",
    "\n",
    "int sample2 (int n){\n",
    "    int sum = 0;\n",
    "    for (int i = 0; i<n; i++){\n",
    "        sum += i;\n",
    "    }\n",
    "    return sum;\n",
    "}\n",
    "\n",
    "// quadratic time (O(n^2))\n",
    "\n",
    "int sample3(int n){\n",
    "    int sum = 0;\n",
    "    for (int i = 0; i < n; i++){\n",
    "        for (int j = 0; j< n; j++){\n",
    "            sum += i*j;\n",
    "        }\n",
    "    }\n",
    "    return sum;\n",
    "}"
   ]
  },
  {
   "cell_type": "markdown",
   "id": "e298167b",
   "metadata": {},
   "source": [
    "#### Asymptotic Notation"
   ]
  },
  {
   "cell_type": "markdown",
   "id": "6be74f5b",
   "metadata": {},
   "source": [
    "Since we are talking about very large n, one uses asymptotic notation. <br>\n",
    "Therefore one uses only the degree of the function.\n",
    "* $O(n^2)$: functions that take at most quadratic time\n",
    "* $\\Omega(n^2)$: functions that take at least quadratic time\n",
    "* $\\Theta(n^2)$: functions that always quadratic time"
   ]
  },
  {
   "cell_type": "markdown",
   "id": "42bce2bf",
   "metadata": {},
   "source": [
    "The binary Search example: <br>\n",
    "Best case: $\\Theta(1)$ <br>\n",
    "Worst case: $\\Theta(\\log n)$ <br>\n",
    "$\\rightarrow O(\\log n)$"
   ]
  },
  {
   "cell_type": "markdown",
   "id": "8ada7d4b",
   "metadata": {},
   "source": [
    "### II. Lists"
   ]
  },
  {
   "cell_type": "markdown",
   "id": "5a0ec13b",
   "metadata": {},
   "source": [
    "#### II.1 ADT Lists"
   ]
  },
  {
   "cell_type": "markdown",
   "id": "c8d4368c",
   "metadata": {},
   "source": [
    "##### ADT of a List: <br>\n",
    "* Insert an element x in index k\n",
    "* Delete the element with an index k\n",
    "* Delete an element x\n",
    "* Get the element with index k\n",
    "* Get the index of an element x\n",
    "* Get the size of a list\n",
    "* Clear a list"
   ]
  },
  {
   "cell_type": "code",
   "execution_count": 4,
   "id": "de4c23c5",
   "metadata": {},
   "outputs": [],
   "source": [
    "public interface IntegerListInterface {\n",
    "    public void add(int i, Integer x);\n",
    "    public void append (Integer x); // same as add, only that it is added to the end.\n",
    "    public Integer remove (int i);\n",
    "    public boolean removeItem (Integer x); // returns true if there is an item, or false.\n",
    "    public Integer get (int i);\n",
    "    public void set (int i, Integer x);\n",
    "    public int indexOf (Integer x);\n",
    "    public int len();\n",
    "    public boolean isEmpty();\n",
    "    public void clear(); // isEmpty and clear is in almost every Data Structure.\n",
    "}"
   ]
  },
  {
   "cell_type": "code",
   "execution_count": 5,
   "id": "18cee3a8",
   "metadata": {},
   "outputs": [],
   "source": [
    "public interface ListInterface<E> {\n",
    "    public void add(int i, E x);\n",
    "    public void append (E x); // same as add, only that it is added to the end.\n",
    "    public Integer remove (int i);\n",
    "    public boolean removeItem (E x); // returns true if there is an item, or false.\n",
    "    public Integer get (int i);\n",
    "    public void set (int i, E x);\n",
    "    public int indexOf (E x);\n",
    "    public int len();\n",
    "    public boolean isEmpty();\n",
    "    public void clear(); // isEmpty and clear is in almost every Data Structure.\n",
    "}"
   ]
  },
  {
   "cell_type": "markdown",
   "id": "0b24fe32",
   "metadata": {},
   "source": [
    "Lists can be implemented using \n",
    "* Continuous Arrays $\\rightarrow$ easy indexing,\n",
    "but can be prone to overflow and shift operations.\n",
    "* Linked Lists $\\rightarrow$, free from shift overhead, but needs extra space for linking."
   ]
  },
  {
   "cell_type": "markdown",
   "id": "81fbbdbc",
   "metadata": {},
   "source": [
    "#### II.2 Lists Using Arrays"
   ]
  },
  {
   "cell_type": "markdown",
   "id": "a3b8af7d",
   "metadata": {},
   "source": [
    "The first item in the memory array is assigned the index 0, and so on. <br>\n",
    "* Methods: Lists use the ten operations declared above.\n",
    "* Attributes: Lists have the item[] array, and the integer numItems. <br>\n",
    "Those are inaccesible directly, but can be only accessed through the methods."
   ]
  },
  {
   "cell_type": "markdown",
   "id": "c58d2f44",
   "metadata": {},
   "source": [
    "##### Insertion: <br>\n",
    "Shift every element right to make room for the new element. <br>\n",
    "$\\rightarrow$ The worst case: inserting at the front. <br>\n",
    "The append method is an extension of the add method.  "
   ]
  },
  {
   "cell_type": "code",
   "execution_count": 6,
   "id": "6dc7effe",
   "metadata": {},
   "outputs": [],
   "source": [
    "public void add (int k, Integer x){\n",
    "    if (numItems >= item.length){\n",
    "        System.out.println(\"Error\");\n",
    "    } else {\n",
    "        for (int i = numItems - 1; i >= k; i--){\n",
    "            item[i+1] = item[i];\n",
    "        }\n",
    "        item[k] = x;\n",
    "        numItems++;\n",
    "    }\n",
    "}"
   ]
  },
  {
   "cell_type": "markdown",
   "id": "4c99c5e9",
   "metadata": {},
   "source": [
    "##### Deletion: <br>\n",
    "Shift every element left to cover the space left empty by the deleted item."
   ]
  },
  {
   "cell_type": "code",
   "execution_count": 7,
   "id": "b0784922",
   "metadata": {},
   "outputs": [],
   "source": [
    "int numItems = 10;\n",
    "Integer[] item = new Integer[10];"
   ]
  },
  {
   "cell_type": "code",
   "execution_count": 8,
   "id": "eb37ce9a",
   "metadata": {},
   "outputs": [],
   "source": [
    "public void remove (int k) {\n",
    "    if (isEmpty() || k < 0 || k > numItems-1){\n",
    "        System.out.println(\"Error\");\n",
    "    } else {\n",
    "        for (int i = k; i < numItems-2; i++){\n",
    "            item[i] = item[i+1];\n",
    "        }\n",
    "        numItems--;\n",
    "    }\n",
    "}"
   ]
  },
  {
   "cell_type": "code",
   "execution_count": 9,
   "id": "f1bacec9",
   "metadata": {},
   "outputs": [],
   "source": [
    "public boolean removeItem (Integer x){\n",
    "    int k = 0;\n",
    "    while (k < numItems && item[k] != x){\n",
    "        k++;\n",
    "    }\n",
    "    if (k == numItems) {return false;}\n",
    "        else {\n",
    "        for (int i = k; i < numItems-2; i++){\n",
    "            item[i] = item[i+1];\n",
    "        }\n",
    "        numItems --;\n",
    "        return true;\n",
    "    }\n",
    "}"
   ]
  },
  {
   "cell_type": "code",
   "execution_count": 10,
   "id": "01b0a9aa",
   "metadata": {},
   "outputs": [],
   "source": [
    "public class IntegerArrayList implements IntegerListInterface{\n",
    "    private Integer[] item;\n",
    "    private int numItems;\n",
    "    private static final int capacity = 64;\n",
    "    \n",
    "    public IntegerArrayList(){ // constructor\n",
    "        item = new Integer[capacity];\n",
    "        numItems = 0;\n",
    "    }\n",
    "    \n",
    "    public void add (int k, Integer x){\n",
    "        if (numItems >= item.length){\n",
    "            System.out.println(\"Error\");\n",
    "        } else {\n",
    "            for (int i = numItems - 1; i >= k; i--){\n",
    "                item[i+1] = item[i];\n",
    "            }\n",
    "            item[k] = x;\n",
    "            numItems++;\n",
    "        }\n",
    "    }\n",
    "    \n",
    "    public void append (Integer x){\n",
    "        add(numItems, x);\n",
    "    }\n",
    "    public Integer remove (int k) {\n",
    "        if (isEmpty() || k < 0 || k > numItems-1){\n",
    "            System.out.println(\"Error\");\n",
    "            return null;\n",
    "        } else {\n",
    "            Integer tmp = item[k];\n",
    "            for (int i = k; i < numItems-2; i++){\n",
    "                item[i] = item[i+1];\n",
    "            }\n",
    "            numItems--;\n",
    "            return tmp;\n",
    "        }\n",
    "    }\n",
    "    public boolean removeItem (Integer x){\n",
    "        int k = 0;\n",
    "        while (k < numItems && item[k] != x){\n",
    "            k++;\n",
    "        }\n",
    "        if (k == numItems) {return false;}\n",
    "            else {\n",
    "            for (int i = k; i < numItems-2; i++){\n",
    "                item[i] = item[i+1];\n",
    "            }\n",
    "            numItems --;\n",
    "            return true;\n",
    "        }\n",
    "    }\n",
    "    public Integer get (int i){\n",
    "        if (i >= 0 && i < numItems-1){\n",
    "            return item[i];\n",
    "        } else {return -1;}\n",
    "    }\n",
    "    public void set(int i, Integer x){\n",
    "        if (i >= 0 && i < numItems-1){\n",
    "            item[i] = x;\n",
    "        } else {\n",
    "            System.out.println(\"Error\");\n",
    "        }\n",
    "    }\n",
    "    public int indexOf (Integer x){\n",
    "        int i = 0;\n",
    "        while (i < numItems && item[i] != x){\n",
    "             i++;\n",
    "        }\n",
    "        if (i == numItems){\n",
    "            return -1;\n",
    "        } else {\n",
    "            return i;\n",
    "        }\n",
    "    }\n",
    "    public int len(){\n",
    "        return numItems;\n",
    "    }\n",
    "    public boolean isEmpty(){\n",
    "        return numItems == 0;\n",
    "    }\n",
    "    public void clear(){\n",
    "        numItems = 0;\n",
    "        item = new Integer[item.length];\n",
    "    }\n",
    "}"
   ]
  },
  {
   "cell_type": "markdown",
   "id": "389a7875",
   "metadata": {},
   "source": [
    "##### Using Generics: <br>\n",
    "Instead of a specific type, one can use Generic Typing to make lists for all types."
   ]
  },
  {
   "cell_type": "markdown",
   "id": "4616a5f8",
   "metadata": {},
   "source": [
    "#### II.3 Linked Lists"
   ]
  },
  {
   "cell_type": "markdown",
   "id": "54b0ddf1",
   "metadata": {},
   "source": [
    "Lists made of Nodes, which has a value and a reference to the next Node.\n",
    "The first item in the memory array is assigned the index 0, and so on. <br>\n",
    "* Methods: Lists use the ten operations declared above.\n",
    "* Attributes: Lists have the Node head, and the integer numItems. <br>\n",
    "Those are inaccesible directly, but can be only accessed through the methods."
   ]
  },
  {
   "cell_type": "markdown",
   "id": "e931ed69",
   "metadata": {},
   "source": [
    "The Head Node has a value of 0 and has a reference to the next Node."
   ]
  },
  {
   "cell_type": "markdown",
   "id": "2924bdb2",
   "metadata": {},
   "source": [
    "##### Insertion: <br>\n",
    "Make a new Node, assign the reference of the before Node to the new Node, <br> \n",
    "and the make the new Node refer to the next Node."
   ]
  },
  {
   "cell_type": "code",
   "execution_count": 11,
   "id": "ddbfbf43",
   "metadata": {},
   "outputs": [],
   "source": [
    "public void add(int k, Integer x){\n",
    "    Node newNode = new Node();\n",
    "    newNode.item = x;\n",
    "    newNode.next = prevNode.next;\n",
    "    prevNode.next = newNode;\n",
    "    numItems++;\n",
    "}"
   ]
  },
  {
   "cell_type": "markdown",
   "id": "54ec75bb",
   "metadata": {},
   "source": [
    "Problem: if adding at the first position, there is no prevNode! <br>\n",
    "$\\rightarrow$ make the head refer to the new Node. <br>\n",
    "$\\rightarrow$ or, make a Dummy Head Node."
   ]
  },
  {
   "cell_type": "markdown",
   "id": "7ad2aa37",
   "metadata": {},
   "source": [
    "##### Deletion: <br>\n",
    "Assign the reference of the before-Node to the next Node, <br> \n",
    "thus making the middle Node have no reference."
   ]
  },
  {
   "cell_type": "code",
   "execution_count": 12,
   "id": "d54c0119",
   "metadata": {},
   "outputs": [
    {
     "ename": "CompilationException",
     "evalue": "",
     "output_type": "error",
     "traceback": [
      "\u001b[1m\u001b[30m|   \u001b[1m\u001b[30m    \u001b[0m\u001b[1m\u001b[30m\u001b[41mprevNode\u001b[0m\u001b[1m\u001b[30m.next = prevNode.next.next;\u001b[0m",
      "\u001b[1m\u001b[31mcannot find symbol\u001b[0m",
      "\u001b[1m\u001b[31m  symbol:   variable prevNode\u001b[0m",
      "",
      "\u001b[1m\u001b[30m|   \u001b[1m\u001b[30m    prevNode.next = \u001b[0m\u001b[1m\u001b[30m\u001b[41mprevNode.next\u001b[0m\u001b[1m\u001b[30m.next;\u001b[0m",
      "\u001b[1m\u001b[31mpackage prevNode does not exist\u001b[0m",
      ""
     ]
    }
   ],
   "source": [
    "public void remove(int k){\n",
    "    prevNode.next = prevNode.next.next;\n",
    "    numItems--;\n",
    "}"
   ]
  },
  {
   "cell_type": "markdown",
   "id": "fcda6c72",
   "metadata": {},
   "source": [
    "##### Finding: <br>\n",
    "Iterate through the nodes to find the right item."
   ]
  },
  {
   "cell_type": "markdown",
   "id": "6ba74356",
   "metadata": {},
   "source": [
    "##### Dummy Node: <br>\n",
    "Instead of dividing the cases between k =0  and else, one can make a dummy node: <br>\n",
    "A node that is referenced from the head and that references the first node. <br>\n",
    "$\\rightarrow$ gurantees the existence of a prevNode!"
   ]
  },
  {
   "cell_type": "code",
   "execution_count": 13,
   "id": "8433eede",
   "metadata": {},
   "outputs": [],
   "source": [
    "class Node<E> {\n",
    "     E item;\n",
    "    Node<E> next;\n",
    "    public Node(E item, Node <E> next){\n",
    "        this.item = item;\n",
    "        this.next = next;\n",
    "    }\n",
    "}"
   ]
  },
  {
   "cell_type": "code",
   "execution_count": 14,
   "id": "96045c07",
   "metadata": {
    "scrolled": true
   },
   "outputs": [
    {
     "ename": "CompilationException",
     "evalue": "",
     "output_type": "error",
     "traceback": [
      "\u001b[1m\u001b[30m|   \u001b[1m\u001b[30m\u001b[0m\u001b[1m\u001b[30m\u001b[41mpublic class LinkedList<E extends Comparable> implements ListInterface<E> {\u001b[0m",
      "\u001b[1m\u001b[30m|   \u001b[1m\u001b[30m\u001b[41m    private Node<E> head;\u001b[0m",
      "\u001b[1m\u001b[30m|   \u001b[1m\u001b[30m\u001b[41m    private int numItems;;\u001b[0m",
      "\u001b[1m\u001b[30m|   \u001b[1m\u001b[30m\u001b[41m    public LinkedList(){\u001b[0m",
      "\u001b[1m\u001b[30m|   \u001b[1m\u001b[30m\u001b[41m        this.head = new Node<>(null, null);\u001b[0m",
      "\u001b[1m\u001b[30m|   \u001b[1m\u001b[30m\u001b[41m        this.numItems = 0;\u001b[0m",
      "\u001b[1m\u001b[30m|   \u001b[1m\u001b[30m\u001b[41m    }\u001b[0m",
      "\u001b[1m\u001b[30m|   \u001b[1m\u001b[30m\u001b[41m    // ...\u001b[0m",
      "\u001b[1m\u001b[30m|   \u001b[1m\u001b[30m\u001b[41m}\u001b[0m",
      "\u001b[1m\u001b[31mLinkedList is not abstract and does not override abstract method clear() in ListInterface\u001b[0m",
      ""
     ]
    }
   ],
   "source": [
    "public class LinkedList<E extends Comparable> implements ListInterface<E> {\n",
    "    private Node<E> head;\n",
    "    private int numItems;;\n",
    "    public LinkedList(){\n",
    "        this.head = new Node<>(null, null);\n",
    "        this.numItems = 0;\n",
    "    }\n",
    "    // ...\n",
    "}"
   ]
  },
  {
   "cell_type": "markdown",
   "id": "314c3202",
   "metadata": {},
   "source": [
    "#### II.4 Extensions of Linked List"
   ]
  },
  {
   "cell_type": "markdown",
   "id": "15a69c3a",
   "metadata": {},
   "source": [
    "##### Circularly Linked List: <br>\n",
    "\n",
    "The tail refers to the dummy-head, making it a circle. <br>\n",
    "$\\rightarrow$ There is no need for a head-node."
   ]
  },
  {
   "cell_type": "markdown",
   "id": "c23ac194",
   "metadata": {},
   "source": [
    "##### Bidirectionally Linked List: <br>\n",
    "Each Node is linked to the previous and next Node. <br>\n",
    "$\\rightarrow$ Ease of access, insertion, and deletion"
   ]
  },
  {
   "cell_type": "markdown",
   "id": "92c82cdf",
   "metadata": {},
   "source": [
    "### III. Stacks and Queues"
   ]
  },
  {
   "cell_type": "markdown",
   "id": "eccd068f",
   "metadata": {},
   "source": [
    "#### III.1 ADT Stacks"
   ]
  },
  {
   "cell_type": "markdown",
   "id": "87d5f8b0",
   "metadata": {},
   "source": [
    "##### ADT of a Stack: <br>\n",
    "* Insert an element x on top\n",
    "* Delete the element on top and return it\n",
    "* Return the element on top\n",
    "* Get the size of a stack\n",
    "* Clear a stack\n",
    "\n",
    "$\\rightarrow$ Last In, First Out"
   ]
  },
  {
   "cell_type": "code",
   "execution_count": 15,
   "id": "6c7d8e17",
   "metadata": {},
   "outputs": [],
   "source": [
    "public interface IntegerStackInterface{\n",
    "    void push(Integer x);\n",
    "    Integer pop ();\n",
    "    Integer top();\n",
    "    boolean isEmpty();\n",
    "    void popAll();\n",
    "}"
   ]
  },
  {
   "cell_type": "markdown",
   "id": "cea6db9d",
   "metadata": {},
   "source": [
    "#### III.2 Array Stacks"
   ]
  },
  {
   "cell_type": "code",
   "execution_count": 16,
   "id": "1fd56e21",
   "metadata": {},
   "outputs": [],
   "source": [
    "public class Stack implements IntegerStackInterface{\n",
    "    Integer[] stack;\n",
    "    int topIndex;\n",
    "    \n",
    "    public void push (Integer x){\n",
    "        if (topIndex >= stack.length -1){\n",
    "            System.out.println(\"ERROR\");\n",
    "        } else {\n",
    "            stack[topIndex++] = x;\n",
    "        }\n",
    "    }\n",
    "    \n",
    "    public Integer pop (){\n",
    "        if (isEmpty()){\n",
    "            System.out.println(\"ERROR\");\n",
    "            return null;\n",
    "        } else {\n",
    "            return stack[topIndex--];\n",
    "        }\n",
    "    }\n",
    "    \n",
    "    public Integer top(){\n",
    "        if (isEmpty()){\n",
    "            System.out.println(\"ERROR\");\n",
    "            return null;\n",
    "        } else {\n",
    "            return stack[topIndex];\n",
    "        }\n",
    "    }\n",
    "    \n",
    "    public boolean isEmpty(){\n",
    "        return topIndex < 0;\n",
    "    }\n",
    "    \n",
    "    public void popAll (){\n",
    "        topIndex = -1;\n",
    "        stack = new Integer[]{};\n",
    "    }\n",
    "}"
   ]
  },
  {
   "cell_type": "markdown",
   "id": "f74233c0",
   "metadata": {},
   "source": [
    "Why assign a new array when clearing? <br>\n",
    "$\\rightarrow$ memory usage is inefficient if one does not reassign a new array. <br>\n",
    "The old array is still full of pointers to old objects, and is not garbage-collected."
   ]
  },
  {
   "cell_type": "markdown",
   "id": "fb335458",
   "metadata": {},
   "source": [
    "#### III.3 Linked Stacks"
   ]
  },
  {
   "cell_type": "markdown",
   "id": "8f07e35c",
   "metadata": {},
   "source": [
    "Only use primitive LinkedLists. <br>\n",
    "Addition / Deletion at only the head node. <br>\n",
    "Cleaning: assign null to the top (head) node."
   ]
  },
  {
   "cell_type": "code",
   "execution_count": 20,
   "id": "9daad385",
   "metadata": {},
   "outputs": [
    {
     "ename": "CompilationException",
     "evalue": "",
     "output_type": "error",
     "traceback": [
      "\u001b[1m\u001b[30m|   \u001b[1m\u001b[30m    public void push (Integer\u001b[0m\u001b[1m\u001b[30m\u001b[41m\u001b[0m\u001b[1m\u001b[30m new){\u001b[0m",
      "\u001b[1m\u001b[31m<identifier> expected\u001b[0m",
      "",
      "\u001b[1m\u001b[30m|   \u001b[1m\u001b[30m        add(0, new\u001b[0m\u001b[1m\u001b[30m\u001b[41m\u001b[0m\u001b[1m\u001b[30m);\u001b[0m",
      "\u001b[1m\u001b[31m<identifier> expected\u001b[0m",
      ""
     ]
    }
   ],
   "source": [
    "public class InheritedStack extends LinkedList implements IntegerStackInterface{\n",
    "    public InheritedStack(){\n",
    "        super();\n",
    "    }\n",
    "    \n",
    "    public void push (Integer new){\n",
    "        add(0, new);\n",
    "    }\n",
    "    \n",
    "    public Integer pop(){\n",
    "        Integer x = get(0);\n",
    "        remove(0);\n",
    "        return x;\n",
    "    }\n",
    "    \n",
    "    public Integer top(){\n",
    "        return get(0);\n",
    "    }\n",
    "    public void popAll(){\n",
    "        clear();\n",
    "    }\n",
    "    \n",
    "}"
   ]
  },
  {
   "cell_type": "markdown",
   "id": "5ef0482c",
   "metadata": {},
   "source": [
    "##### III.4 Queues"
   ]
  },
  {
   "cell_type": "markdown",
   "id": "f2cd6078",
   "metadata": {},
   "source": [
    "##### ADT of a Queue: <br>\n",
    "* Insert an element x on top\n",
    "* Delete the element on the bottom and return it\n",
    "* Return the element on the bottom\n",
    "* Get the size of a queue\n",
    "* Clear a queue\n",
    "\n",
    "$\\rightarrow$ First In, First Out"
   ]
  },
  {
   "cell_type": "markdown",
   "id": "755d091e",
   "metadata": {},
   "source": [
    "##### ADT of a Stack: <br>\n",
    "* Insert an element x on top\n",
    "* Delete the element on top and return it\n",
    "* Return the element on top\n",
    "* Get the size of a stack\n",
    "* Clear a stack"
   ]
  },
  {
   "cell_type": "markdown",
   "id": "36d2bb31",
   "metadata": {},
   "source": [
    "##### Array Queues: <br>\n",
    "Use Circular Queues to address the memory problem. <br>\n",
    "$\\rightarrow$ Modulus operation to move the tail position. <br>\n",
    "Attributes: <br>\n",
    "* Queue[]\n",
    "* numItems\n",
    "* head\n",
    "* tail <br>\n",
    "\n",
    "Methods:<br>\n",
    "* Enqueue\n",
    "* Dequeue\n",
    "* Front\n",
    "* isEmpty\n",
    "* dequeueAll"
   ]
  },
  {
   "cell_type": "markdown",
   "id": "a927db13",
   "metadata": {},
   "source": [
    "Also can use LinkedLists to generate Queues."
   ]
  },
  {
   "cell_type": "markdown",
   "id": "4241c4fd",
   "metadata": {},
   "source": [
    "### V. Heaps and Trees"
   ]
  },
  {
   "cell_type": "markdown",
   "id": "9ca5a9f0",
   "metadata": {},
   "source": [
    "#### V.1 ADT Heaps"
   ]
  },
  {
   "cell_type": "markdown",
   "id": "6397cd63",
   "metadata": {},
   "source": [
    "##### Static vs Dynamic Data Structures: <br>\n",
    "Dictionary Table: insertion, deletion, and search. $\\rightarrow$ index-based <br>\n",
    "Priotity Queue (Heaps): insertion, delete priority, search priority. $\\rightarrow$ no key is needed. <br>"
   ]
  },
  {
   "cell_type": "markdown",
   "id": "82e022de",
   "metadata": {},
   "source": [
    "##### ADT of a Priority Queue (Heaps): <br>\n",
    "* insert x.\n",
    "* delete the most highly prioritized element and return it.\n",
    "* return the most highly prioritized element."
   ]
  },
  {
   "cell_type": "markdown",
   "id": "37c5412e",
   "metadata": {},
   "source": [
    "#### V.2 Full Binary Trees"
   ]
  },
  {
   "cell_type": "markdown",
   "id": "4cb12fff",
   "metadata": {},
   "source": [
    "Trees: a connected graph without a cycle. <br>\n",
    "Full Binary Trees: every Node without the end nodes has exactly two leaves, and has $2^k -1$ nodes. <br>\n",
    "Complete Binary Trees: every Node without the end nodes has exactly two leaves, and <br>\n",
    "overflowing nodes are filled from the end. <br>\n",
    "$\\rightarrow$ CBTs can be made with arrays. <br>\n",
    "$\\rightarrow$ Parent of index $i : $floor $ \\frac{i+1}{2}$, Child of index $i : 2i + 1, 2i+2$ <br>\n",
    "Max Heap: a CBT that each child node value is less than the parent node."
   ]
  },
  {
   "cell_type": "markdown",
   "id": "b0676ba4",
   "metadata": {},
   "source": [
    "##### PercolateUp: <br>\n",
    "To insert an element, insert it at the end, and then compare it with its parent, and switch if necessary. <br> <br>\n",
    "\n",
    "##### PercolateDown: <br>\n",
    "To delete the root, delete the root, exchange it with the end element, and then compare it with its children, switching if necessary. <br><br>\n",
    "\n",
    "##### BuildHeap: <br>\n",
    "From the first internal Node, percolateDown."
   ]
  },
  {
   "cell_type": "code",
   "execution_count": 3,
   "id": "89938c65",
   "metadata": {},
   "outputs": [],
   "source": [
    "public void percolateUp (Integer A[], int i) {\n",
    "    int parent = (i-1)/2;\n",
    "    if (i > 0 && A[i] > A[parent]){\n",
    "        Integer temp = A[i];\n",
    "        A[i] = A[parent];\n",
    "        A[parent] = temp;\n",
    "        percolateUp (A, parent);\n",
    "    }\n",
    "}"
   ]
  },
  {
   "cell_type": "code",
   "execution_count": 7,
   "id": "7d24c43a",
   "metadata": {},
   "outputs": [],
   "source": [
    "public void percolateDown(Integer A[], int k){\n",
    "    int child = 2*k+1;\n",
    "    int right = 2*k+2;\n",
    "    if (child <= n-1){\n",
    "        if (right <= n-1 && A[child] < A[right]){\n",
    "            child = right;\n",
    "        }\n",
    "        if (A[k] < A[child]){\n",
    "            Integer temp = A[k];\n",
    "            A[k] = A[child];\n",
    "            A[child] = temp;\n",
    "            percolateDown(A, child);\n",
    "        }\n",
    "    }\n",
    "}\n",
    " \n",
    "// O(log n)"
   ]
  },
  {
   "cell_type": "code",
   "execution_count": 15,
   "id": "44d6a503",
   "metadata": {},
   "outputs": [],
   "source": [
    "public void buildHeap (Integer A[]){\n",
    "    for (int i = (n-2)/2; i >= 0; i--){\n",
    "        percolateDown(A, i);\n",
    "    }\n",
    "}\n",
    "\n",
    "// Theta(n)"
   ]
  },
  {
   "cell_type": "markdown",
   "id": "5c3af5d2",
   "metadata": {},
   "source": [
    "### VI. Sorting"
   ]
  },
  {
   "cell_type": "markdown",
   "id": "534d8dac",
   "metadata": {},
   "source": [
    "#### VI.1 Basic Sorting Algorithms"
   ]
  },
  {
   "cell_type": "markdown",
   "id": "4e37e1a5",
   "metadata": {},
   "source": [
    "Most basic sorting algorithms take $O(n^2)$ time."
   ]
  },
  {
   "cell_type": "markdown",
   "id": "205bb70f",
   "metadata": {},
   "source": [
    "##### Selection Sort: <br>\n",
    "\n",
    "Repeat the following ($n$ repetitions): <br>\n",
    "* find the biggest element. ($n$ repetitions)\n",
    "* exchange it with the rightmost element\n",
    "* make the array length $n-1$.\n",
    "\n",
    "<br>\n",
    "$\\rightarrow \\Theta (n^2)$ regardless of the situation."
   ]
  },
  {
   "cell_type": "code",
   "execution_count": 24,
   "id": "793945b2",
   "metadata": {},
   "outputs": [],
   "source": [
    "public void selectionSort(Integer A[], int n){\n",
    "    for (int i = n-1; i >= 0; i--){\n",
    "        int k = argmax(A, i);\n",
    "        Integer tmp = A[k];\n",
    "        A[k] = A[i];\n",
    "        A[i] = tmp;\n",
    "    }\n",
    "}\n",
    "\n",
    "public int argmax(Integer A[], int n){\n",
    "    int answer = 0;\n",
    "    for (int i = 0; i <= n; i++){\n",
    "        if (A[i] > A[answer]){\n",
    "            answer = i;\n",
    "        }\n",
    "    }\n",
    "    return answer;\n",
    "}"
   ]
  },
  {
   "cell_type": "markdown",
   "id": "c8077a5a",
   "metadata": {},
   "source": [
    "##### BubbleSort: <br>\n",
    "\n",
    "Repeat the following:\n",
    "* switch two elements whose orders are not aligned.\n",
    "\n",
    "<br>\n",
    "$\\rightarrow \\Theta(n^2)$ regardless of the situation."
   ]
  },
  {
   "cell_type": "code",
   "execution_count": 28,
   "id": "5aadc770",
   "metadata": {},
   "outputs": [],
   "source": [
    "public void bubbleSort(Integer A[], int n){\n",
    "    for (int last = n-1; last >= 1; last--){\n",
    "        for (int i = 0; i <= last-1; i++){\n",
    "            if (A[i] > A[i+1]){\n",
    "                Integer tmp = A[i];\n",
    "                A[i] = A[i+1];\n",
    "                A[i+1] = tmp;\n",
    "            }\n",
    "        }\n",
    "    }\n",
    "}"
   ]
  },
  {
   "cell_type": "markdown",
   "id": "4d699ea6",
   "metadata": {},
   "source": [
    "##### InsertionSort: <br>\n",
    "\n",
    "Gradually increase the ordered array. <br>\n",
    "For all elements:\n",
    "* Find the appropriate place in the ordered array.\n",
    "* Shift all the rest. \n",
    "\n",
    "<br>\n",
    "\n",
    "Best Case: $\\Theta(n)$ <br>\n",
    "Worst Case: $\\Theta(n^2)$"
   ]
  },
  {
   "cell_type": "code",
   "execution_count": 34,
   "id": "58a7c563",
   "metadata": {},
   "outputs": [],
   "source": [
    "public void insertionSort(Integer A[], int n){\n",
    "    for (int i = 1; i<n; i++){\n",
    "        int j = i-1;\n",
    "        Integer insertionItem = A[i];\n",
    "        while (j >= 0 && insertionItem < A[j]){\n",
    "            A[j+1] = A[j];\n",
    "            j--;\n",
    "        }\n",
    "        A[j+1] = insertionItem;\n",
    "    }\n",
    "}"
   ]
  },
  {
   "cell_type": "markdown",
   "id": "4afc6a26",
   "metadata": {},
   "source": [
    "#### VI.2 Sophisticated Sorting Algorithms"
   ]
  },
  {
   "cell_type": "markdown",
   "id": "ce47599a",
   "metadata": {},
   "source": [
    "Generally the sophisticated algorithms take $O(n \\log n)$ time."
   ]
  },
  {
   "cell_type": "markdown",
   "id": "b72473f3",
   "metadata": {},
   "source": [
    "##### MergeSort: <br>\n",
    "\n",
    "Recursively do the following:\n",
    "* Divide the array to two.\n",
    "* Mergesort the to arrays.\n",
    "* Merge the to sorted arrays. $\\rightarrow O(n)$\n",
    "\n",
    "Since $T(n) = 2 T(\\frac{n}{2}) + \\Theta(n)$ <br>\n",
    "$\\rightarrow \\Theta (n \\log n)$ <br>\n",
    "\n",
    "Problem with mergeSort: not inplace sorting! Needs a temp variable and has to rewrite it."
   ]
  },
  {
   "cell_type": "code",
   "execution_count": 43,
   "id": "aab34e13",
   "metadata": {},
   "outputs": [],
   "source": [
    "public void mergeSort(Integer[] A, int p, int r){\n",
    "    if (p < r){\n",
    "        int q = (p+r)/2;\n",
    "        mergeSort(A, p, q);\n",
    "        mergeSort(A, q+1, r);\n",
    "        merge(A, p, q, r);\n",
    "    }\n",
    "}\n",
    "\n",
    "public void merge(Integer[] A, int p, int q, int r){\n",
    "    Integer[] tmp = new Integer[A.length];\n",
    "    int i = p;\n",
    "    int j = q+1;\n",
    "    int t = 0;\n",
    "    while (i <= q && j <= r){\n",
    "        if (A[i] <= A[j]){\n",
    "            tmp[t++] = A[i++];\n",
    "        } else {\n",
    "            tmp[t++] = A[j++];\n",
    "        }\n",
    "    }\n",
    "    while (i <= q){\n",
    "        tmp[t++] = A[i++];\n",
    "    }\n",
    "    while (j <= r){\n",
    "        tmp[t++] = A[j++];\n",
    "    }\n",
    "    i = p;\n",
    "    t = 0;\n",
    "    while (i <= r){\n",
    "        A[i++] = tmp[t++];\n",
    "    }\n",
    "}"
   ]
  },
  {
   "cell_type": "markdown",
   "id": "6d276512",
   "metadata": {},
   "source": [
    "##### QuickSort: <br>\n",
    "\n",
    "Recursively do the following:\n",
    "* Divide the given array by a specific element.\n",
    "* QuickSort both smaller arrays.\n",
    "\n",
    "<br>\n",
    "Very fast, so used very often in the field. <br>\n",
    "Worst case: $\\Theta(n^2)$ $\\rightarrow$ unbalanced partition<br>\n",
    "Best case: $\\Theta (n \\log n)$ $\\rightarrow$ balanced partition"
   ]
  },
  {
   "cell_type": "code",
   "execution_count": 48,
   "id": "8252ca52",
   "metadata": {},
   "outputs": [],
   "source": [
    "public void quickSort(Integer A[], int p, int r){\n",
    "    if (p < r){\n",
    "        int q = partition(A, p, r);\n",
    "        quickSort(A, p, q-1);\n",
    "        quickSort(A, q+1, r);\n",
    "    }\n",
    "}\n",
    "\n",
    "public int partition(Integer A[], int p, int r){\n",
    "    Integer x = A[r];\n",
    "    int i = p-1;\n",
    "    for (int j = p; j < r; j++){\n",
    "        if (A[j] < x){\n",
    "            Integer tmp = A[++i];\n",
    "            A[i] = A[j];\n",
    "            A[j] = tmp;\n",
    "        }\n",
    "    }\n",
    "    Integer tmp = A[i+1];\n",
    "    A[i+1] = A[r];\n",
    "    A[r] = tmp;\n",
    "    return i+1;\n",
    "}"
   ]
  },
  {
   "cell_type": "markdown",
   "id": "51da6db3",
   "metadata": {},
   "source": [
    "##### HeapSort: <br>\n",
    "* Build initial heap\n",
    "* Delete the root (biggest element)\n",
    "* Percolate down and repeat\n",
    "\n",
    "<br>\n",
    "Best case: $\\Theta(n)$ <br>\n",
    "Worst case: $\\Theta (n \\log n)$"
   ]
  },
  {
   "cell_type": "markdown",
   "id": "c9e60bfc",
   "metadata": {},
   "source": [
    "##### ShellSort: <br>\n",
    "\n",
    "* sort using gaps in order to make insertionSort faster."
   ]
  },
  {
   "cell_type": "code",
   "execution_count": 73,
   "id": "30bab29d",
   "metadata": {},
   "outputs": [],
   "source": [
    "public void shellSort(Integer A[]){\n",
    "    int[] gaps = {7, 3, 1};\n",
    "    for (int h: gaps){\n",
    "        for (int k =0; k < h; k++){\n",
    "            stepInsertionSort(A, k, h);\n",
    "        }\n",
    "    }\n",
    "}\n",
    "\n",
    "public void stepInsertionSort(Integer A[], int k, int h){\n",
    "    for (int i = k+h; i < A.length; i+= h){\n",
    "        Integer item = A[i];\n",
    "        for (int j = i-h; j >= 0 && item < A[j]; j -= h){\n",
    "            A[j+h] = A[j];\n",
    "        }\n",
    "        A[j + h] = item;\n",
    "    }\n",
    "}"
   ]
  },
  {
   "cell_type": "markdown",
   "id": "07cb2bf7",
   "metadata": {},
   "source": [
    "#### VI.3 Special Sorting Algorithms"
   ]
  },
  {
   "cell_type": "markdown",
   "id": "56472ffe",
   "metadata": {},
   "source": [
    "Works for special types of data. $O(n)$ time."
   ]
  },
  {
   "cell_type": "markdown",
   "id": "269bb6c1",
   "metadata": {},
   "source": [
    "##### CountSort: <br>\n",
    "* Non-comparing sort.\n",
    "* Works for integers.\n",
    "* $O(n+k)$, where $k$ is the maximal number out of $n$ integers."
   ]
  },
  {
   "cell_type": "code",
   "execution_count": 1,
   "id": "c0afb7a3",
   "metadata": {},
   "outputs": [],
   "source": [
    "void CountSort(int arr[])\n",
    "    {\n",
    "        int n = arr.length;\n",
    " \n",
    "        int output[] = new int[n];\n",
    " \n",
    "        int count[] = new int[max(arr)];\n",
    "        for (int i = 0; i < count.length; ++i)\n",
    "            count[i] = 0;\n",
    "            \n",
    "        for (int i = 0; i < n; ++i)\n",
    "            ++count[arr[i]];\n",
    " \n",
    "        for (int i = 1; i <= count.length; ++i)\n",
    "            count[i] += count[i - 1];\n",
    " \n",
    "        for (int i = n - 1; i >= 0; i--) {\n",
    "            output[count[arr[i]] - 1] = arr[i];\n",
    "            --count[arr[i]];\n",
    "        }\n",
    " \n",
    "        for (int i = 0; i < n; ++i)\n",
    "            arr[i] = output[i];\n",
    "    }\n",
    " "
   ]
  },
  {
   "cell_type": "markdown",
   "id": "cfbbbb3e",
   "metadata": {},
   "source": [
    "##### RadixSort: <br>\n",
    "* Non-comparing, stable sort.\n",
    "* Works for natural numbers with $k$ digits.\n",
    "* $O(kn)$\n",
    "* CountSort from the least significant digit to the most significant digit."
   ]
  },
  {
   "cell_type": "markdown",
   "id": "273d10db",
   "metadata": {},
   "source": [
    "##### BucketSort: <br>\n",
    "* Works for uniform distribution between 0~1.\n",
    "* Divide the data into buckets according to their value\n",
    "* $O(n)$, but takes longer than QuickSort.\n",
    "* Then sort inside those buckets and then merge those into one."
   ]
  },
  {
   "cell_type": "markdown",
   "id": "fac8d1ca",
   "metadata": {},
   "source": [
    "### VII. Indexing"
   ]
  },
  {
   "cell_type": "markdown",
   "id": "cc479690",
   "metadata": {},
   "source": [
    "#### VII.1 Binary Search Trees"
   ]
  },
  {
   "cell_type": "markdown",
   "id": "3f498b10",
   "metadata": {},
   "source": [
    "Record: the bundle of information about an object. It consists of many fields. <br>\n",
    "Key: a field that can uniquely identify a record."
   ]
  },
  {
   "cell_type": "markdown",
   "id": "e0c415a8",
   "metadata": {},
   "source": [
    "##### ADT Index: <br>\n",
    "* Insert key x\n",
    "* Search key x\n",
    "* Delete key x"
   ]
  },
  {
   "cell_type": "markdown",
   "id": "47e5fc3f",
   "metadata": {},
   "source": [
    "##### Binary Search Trees: <br>\n",
    "Each node has a unique key and two leaf-nodes. <br>\n",
    "The key of the left-leaf is smaller than the root node, <br>\n",
    "and the key of the right-leaf is bigger than the root node. "
   ]
  },
  {
   "cell_type": "markdown",
   "id": "1a56c05a",
   "metadata": {},
   "source": [
    "##### Subtrees: <br>\n",
    "The trees that are under a specific node. <br>\n",
    "All keys of a BST's left-subtree is smaller, and right-subtree is bigger."
   ]
  },
  {
   "cell_type": "markdown",
   "id": "77b69b32",
   "metadata": {},
   "source": [
    "$\\rightarrow$ Use nodes to refer to the leftChild and rightChild."
   ]
  },
  {
   "cell_type": "code",
   "execution_count": 6,
   "id": "fba5f2bf",
   "metadata": {},
   "outputs": [],
   "source": [
    "public class Node{\n",
    "    int key;\n",
    "    Node left;\n",
    "    Node right;\n",
    "    public Node(int key, Node left, Node right){\n",
    "        this.key = key;\n",
    "        this.left = left;\n",
    "        this.right = right;\n",
    "    }\n",
    "}"
   ]
  },
  {
   "cell_type": "markdown",
   "id": "5b97d0d2",
   "metadata": {},
   "source": [
    "The efficiency of a BST depends on the shape of the tree. <br>\n",
    "The more balanced it is, (shallow depth) the more efficient."
   ]
  },
  {
   "cell_type": "code",
   "execution_count": 4,
   "id": "1d63b193",
   "metadata": {},
   "outputs": [],
   "source": [
    "Node search (Node t, int x){\n",
    "    if (t == null || t.key == x){\n",
    "        return t;\n",
    "    } else if (x < t.key){\n",
    "        return search(t.left, x);\n",
    "    } else {\n",
    "        return search(t.right, x);\n",
    "    }\n",
    "}\n",
    "//recursive search"
   ]
  },
  {
   "cell_type": "code",
   "execution_count": 7,
   "id": "80d71425",
   "metadata": {},
   "outputs": [],
   "source": [
    "Node insertItem(Node t, int x){\n",
    "    if (t == null){\n",
    "        return new Node(x, null, null);\n",
    "    } else if (x < t.key){\n",
    "        t.left = insertItem(t.left, x);\n",
    "        return t;\n",
    "    } else {\n",
    "        t.right = insertItem(t.right, x);\n",
    "        return t;\n",
    "    }\n",
    "}\n",
    "\n",
    "void insert (int x){\n",
    "    root = insertItem(root);\n",
    "}\n",
    "//recursive insertion"
   ]
  },
  {
   "cell_type": "markdown",
   "id": "586545ff",
   "metadata": {},
   "source": [
    "Deletion: <br>\n",
    "if r is a leaf node: delete it. <br>\n",
    "else if r has one child: link r's parent with the child. <br>\n",
    "else if r has two children: find the minimum key of r's right subtree and replace r with it. <br>"
   ]
  },
  {
   "cell_type": "markdown",
   "id": "c1934ce5",
   "metadata": {},
   "source": [
    "##### Properties of BSTs: <br>\n",
    "* Total leaf number for a full BST of height $h$ is $2^{h-1}$\n",
    "* Total node number for a full BST of height $h$ is $2^h - 1$\n",
    "* Total node number for a BST of height $h$ does not exceed $2^h - 1$\n",
    "* The height for a BST that has $n$ nodes is at least $[\\log_2(n+1)]$\n",
    "* The height of a BST that has $n$ nodes is maximum $n$.\n",
    "* The asymptotic time for searching is the same as inserting. (Insertion is a failed search)\n",
    "* The Average Search Time for BST is $\\theta(\\log n)$ (Worst case: $O(n)$)\n",
    "* Search, Insertion, Deletion time is asymptotically the same.\n",
    "* Sum of total depths of BST: $O(n \\log n) \\rightarrow $ search time is $O(\\log n)$"
   ]
  },
  {
   "cell_type": "markdown",
   "id": "ed59f717",
   "metadata": {},
   "source": [
    "##### Traversal over a BST: <br>\n",
    "* PreOrder Traversal\n",
    "* InOrder Traversal $\\rightarrow$ visited nodes in sorted order! <br>\n",
    "TreeSort: make a BST, then inOrder traversal $\\rightarrow \\Theta(n \\log n)$ <br>\n",
    "(But constant is too high)\n",
    "* PostOrder Traversal"
   ]
  },
  {
   "cell_type": "code",
   "execution_count": 8,
   "id": "a83223db",
   "metadata": {},
   "outputs": [],
   "source": [
    "void preOrder(Node t){\n",
    "    if (t != null){\n",
    "    doThings(t);\n",
    "    preOrder(t.left);\n",
    "    preOrder(t.right);\n",
    "    }\n",
    "}\n",
    "\n",
    "void inOrder(Node t){\n",
    "    if (t != null){\n",
    "    inOrder(t.left);\n",
    "    doThings(t);\n",
    "    inOrder(t.right);}\n",
    "}\n",
    "\n",
    "void postOrder(Node t){\n",
    "    if (t != null){\n",
    "    inOrder(t.left);\n",
    "    inOrder(t.right);\n",
    "    doThings(t);}\n",
    "}\n"
   ]
  },
  {
   "cell_type": "markdown",
   "id": "adfe359b",
   "metadata": {},
   "source": [
    "#### VII.2 AVL Trees"
   ]
  },
  {
   "cell_type": "markdown",
   "id": "f3632597",
   "metadata": {},
   "source": [
    "Why do we need balanced trees? <br>\n",
    "Operations on a search tree depend heavily on a tree's height. <br>\n",
    "Balancing ensures the minimal height."
   ]
  },
  {
   "cell_type": "markdown",
   "id": "ebd7cd9b",
   "metadata": {},
   "source": [
    "##### AVL Tree: <br>\n",
    "a balanced BST such that the heights of a left subtree and a right subtree <br>\n",
    "does not differ more than 1."
   ]
  },
  {
   "cell_type": "markdown",
   "id": "2a3ea3bf",
   "metadata": {},
   "source": [
    "##### Repairing an AVL Tree: <br>\n",
    "One can left-rotate or right-rotate an unbalanced tree to make it an AVL Tree. <br>\n",
    "<br>\n",
    "Left Rotate\n",
    "* Root $\\rightarrow$ Root.leftChild\n",
    "* Root.leftChild $\\rightarrow$ Root\n",
    "* Root.leftChild.rightChild $\\rightarrow$ Root.rightChild\n",
    "* Change height accordingly\n",
    "\n",
    "<br>\n",
    "Right Rotate\n",
    "\n",
    "* Root $\\rightarrow$ Root.rightChild\n",
    "* Root.rightChild $\\rightarrow$ Root\n",
    "* Root.rightChild.leftChild $\\rightarrow$ Root.leftChild\n",
    "* Change height accordingly"
   ]
  },
  {
   "cell_type": "markdown",
   "id": "ae262d4f",
   "metadata": {},
   "source": [
    "##### NIL Sentinel Node: <br>\n",
    "Use a null node NIL that is the leaf node of every leaf Node. <br>\n",
    "Allows easier height calculation."
   ]
  },
  {
   "cell_type": "markdown",
   "id": "fffc899e",
   "metadata": {},
   "source": [
    "##### Four Cases of Balancing: <br>\n",
    "* Case LL: root's left subtree is deeper, and left.left is deeper than left.right <br>\n",
    "$\\rightarrow$ root.rightRotate\n",
    "* Case LR: root's left subtree is deeper, and left.right is deeper than left.left <br>\n",
    "$\\rightarrow$ root.leftRotate, and then root.rightRotate\n",
    "* Case RR: root's right subtree is deeper, and right.right is deeper than right.left <br>\n",
    "$\\rightarrow$ root.leftRotate\n",
    "* Case RL: root's right subtree is deeper, and right.left is deeper than right.right <br>\n",
    "$\\rightarrow$ root.rightRotate, root.leftRotate"
   ]
  },
  {
   "cell_type": "markdown",
   "id": "73386040",
   "metadata": {},
   "source": [
    "Recursively call balanceAVL in insertion or deletion."
   ]
  },
  {
   "cell_type": "markdown",
   "id": "a2fabcdd",
   "metadata": {},
   "source": [
    "Insertion, Deletion, Search $\\rightarrow O(\\log_2 n)$"
   ]
  },
  {
   "cell_type": "markdown",
   "id": "ba07c01f",
   "metadata": {},
   "source": [
    "#### VII.3 Red-Black Trees"
   ]
  },
  {
   "cell_type": "markdown",
   "id": "78c14063",
   "metadata": {},
   "source": [
    "##### RB Tree: <br>\n",
    "* All nodes have a colour, red or black.\n",
    "* All leaf nodes have a black NIL node for a leaf.\n",
    "* The root is black.\n",
    "* All leaf nodes are black.\n",
    "* No two consecutive red nodes are allowed.\n",
    "* The black height is the same for all leaves."
   ]
  },
  {
   "cell_type": "markdown",
   "id": "d0bd8cba",
   "metadata": {},
   "source": [
    "##### Insertion: <br>\n",
    "* Make a new Red node and make two NIL leaf nodes around it.\n",
    "* If the parent node is black $\\rightarrow$ no problem!\n",
    "* If the parent node is red:\n",
    "* if p's sibling is red $\\rightarrow$ change the grandparent into red and make the siblings into black.<br> (recursively)\n",
    "* if p's sibling is black $\\rightarrow$ right rotate and left rotate accordingly."
   ]
  },
  {
   "cell_type": "markdown",
   "id": "5424f37e",
   "metadata": {},
   "source": [
    "##### Deletion: <br>\n",
    "If deleted Node is red $\\rightarrow$ no problem <br>\n",
    "If deleted Node is black $\\rightarrow$ out of scope for this class"
   ]
  },
  {
   "cell_type": "markdown",
   "id": "6f9955c8",
   "metadata": {},
   "source": [
    "Insertion, Deletion, Search $\\rightarrow O(\\log_2 n)$"
   ]
  },
  {
   "cell_type": "markdown",
   "id": "425c2b8a",
   "metadata": {},
   "source": [
    "#### VII.4 B-Trees"
   ]
  },
  {
   "cell_type": "markdown",
   "id": "cf1e5816",
   "metadata": {},
   "source": [
    "##### K-ary search Trees: <br>\n",
    "Multiple leaves for nodes. K keys, K+1 leaves for nodes  <br> <br>\n",
    "##### B-Trees: <br>\n",
    "Balanced K-Trees $\\rightarrow$ radically decreases the height of the tree. <br>\n",
    "All nodes except the root has $[\\frac{K}{2}] \\text{~} K$ keys. All leaves have the same height."
   ]
  },
  {
   "cell_type": "markdown",
   "id": "b0e229e6",
   "metadata": {},
   "source": [
    "##### Insertion: <br>\n",
    "On overflow, give the remaining key to the sibling node or split the node into two, <br> giving the median key to the root. <br>\n",
    "If the parent also overflows, recursively give the key to the root."
   ]
  },
  {
   "cell_type": "markdown",
   "id": "725bd706",
   "metadata": {},
   "source": [
    "Deletion: <br>\n",
    "If the key is in an internal node, switch the key and the very next key. <br>\n",
    "If the key is a leaf node, remove the key. <br>\n",
    "If case of underflow, take a key from a sibling or merge with the sibling."
   ]
  },
  {
   "cell_type": "markdown",
   "id": "1705591c",
   "metadata": {},
   "source": [
    "Insertion, Deletion, Search: $\\rightarrow O(\\log_k n)$"
   ]
  },
  {
   "cell_type": "markdown",
   "id": "d573594c",
   "metadata": {},
   "source": [
    "#### VII.5 Hash Tables"
   ]
  },
  {
   "cell_type": "markdown",
   "id": "13c76ee2",
   "metadata": {},
   "source": [
    "##### Hash Tables: <br>\n",
    "$O(1)$ time for search, insertion, deletion <br>\n",
    "But does not support maximum / minimum key <br>\n",
    "$\\rightarrow$ Make a table, and assign the key to the correct hash"
   ]
  },
  {
   "cell_type": "markdown",
   "id": "064c9a18",
   "metadata": {},
   "source": [
    "##### Hash Functions: <br>\n",
    "* Modulo arithmetic: $h(x) = x\\mod t$, where $t$ is table size (recommended to be prime)\n",
    "* Multiplication method: $h(x) = xA * t$ (table Size does not have to be prime)"
   ]
  },
  {
   "cell_type": "markdown",
   "id": "79d6c551",
   "metadata": {},
   "source": [
    "##### Collision Resolution: Open Addressing<br>\n",
    "* Open addressing: resolves in the array <br>\n",
    "$\\rightarrow$ Linear probing: $h_i(x) = (h_0(x) + i) \\mod t$ <br>\n",
    "But clusters might happen (primary clustering) <br>\n",
    "$\\rightarrow$ Quadratic hashing: $h_i(x) = (h_0(x) + ai^2 + bi + c) \\mod t$ <br>\n",
    "But clusters might happend (secondary clustering) <br>\n",
    "$\\rightarrow$ Double hashing: $h_i(x) = (h_0(x) + i \\beta(x)) \\mod t)$ <br>\n",
    "($\\beta (x)$ has to be non-zero) No clustering\n",
    "<br>\n",
    "One has to mark deleted places in open addressing with a constant DELETED. <br>\n",
    "Override DELETED in case of insertion."
   ]
  },
  {
   "cell_type": "markdown",
   "id": "b1ae73c1",
   "metadata": {},
   "source": [
    "##### Collision Resolution: Chaining: <br>\n",
    "\n",
    "* Separate Chaining: each table is maintained by a linked list."
   ]
  },
  {
   "cell_type": "markdown",
   "id": "5efe9e88",
   "metadata": {},
   "source": [
    "\n",
    "Load factor ($\\alpha$): the rate of occupied slots in the table. <br>\n",
    "If the load factor is too high, it harms performance. <br>\n",
    "Then make the size of the hash table bigger."
   ]
  },
  {
   "cell_type": "markdown",
   "id": "8ea0b8fd",
   "metadata": {},
   "source": [
    "### VIII. Graphs"
   ]
  },
  {
   "cell_type": "markdown",
   "id": "d62f65c1",
   "metadata": {},
   "source": [
    "#### VIII.1 Graphs"
   ]
  },
  {
   "cell_type": "markdown",
   "id": "b9d7d356",
   "metadata": {},
   "source": [
    "Graph: tuple of the set of vertices and the set of edges.\n",
    "$\\rightarrow G = (V, E)$ <br>\n",
    "$V$: nodes. $E$: relation between nodes"
   ]
  },
  {
   "cell_type": "markdown",
   "id": "04b409d1",
   "metadata": {},
   "source": [
    "Weighted graphs: <br>\n",
    "Each edges have a weight. <br>\n",
    "Directed graphs: <br>\n",
    "Each edges have a direction (to from nodes) <br>"
   ]
  },
  {
   "cell_type": "markdown",
   "id": "308e9c4f",
   "metadata": {},
   "source": [
    "##### Adjacency Matrix: <br>\n",
    "For undirected graphs, $A[i][j]$ is $0$ or $1$, where $1$ means the existence of an edge. <br>\n",
    "For weighted undirected graphs: $A[i][j]$ is the weight of the edge. <br>\n",
    "$\\rightarrow$ symmetric! <br>\n",
    "For directed graphs, the adjacency matrix might not be symmetric. <br>\n",
    "Sometimes a nonexistent node should be $\\infty$ <br>\n",
    "Matrices result in a loss of memory. $\\rightarrow \\Theta (n^2)$  <br>\n",
    "But it is straightforward to check adjacent nodes. $\\rightarrow \\Theta(1)$"
   ]
  },
  {
   "cell_type": "markdown",
   "id": "8860cd76",
   "metadata": {},
   "source": [
    "##### Adjacency LinkedList: <br>\n",
    "Graphs are represented as $n$ lists, $n$ being the number of nodes. <br>\n",
    "Nodes linked to a certain node is represented in the list, with the the weight as well. <br>\n",
    "Memory for lists: $\\rightarrow \\Theta(n)$ <br> \n",
    "But it is hard to check whether two nodes are adjacent. $\\rightarrow \\Theta(k)$ <br>\n",
    "($k$ being the number of nodes connected to a node)"
   ]
  },
  {
   "cell_type": "markdown",
   "id": "fc7d2f79",
   "metadata": {},
   "source": [
    "##### Adjacency ArrayList: <br>\n",
    "Graphs are represented as $n$ sorted arrays. <br>\n",
    "Much quicker to check adjacency of two nodes. $\\rightarrow \\Theta (\\log_2 k)$"
   ]
  },
  {
   "cell_type": "markdown",
   "id": "3a50e9e1",
   "metadata": {},
   "source": [
    "##### Adjacency Hash Table: <br>\n",
    "Graphs are represented as $n$ sorted arrays. <br>\n",
    "Very quicker to check adjacency of two nodes. $\\rightarrow \\Theta(1)$"
   ]
  },
  {
   "cell_type": "markdown",
   "id": "26b39cf5",
   "metadata": {},
   "source": [
    "#### VIII.2 Graph Traversal"
   ]
  },
  {
   "cell_type": "markdown",
   "id": "4f47d17b",
   "metadata": {},
   "source": [
    "##### Breadth First Search: <br>\n",
    "Use the queue data structure. <br>\n",
    "Delete the first node of the queue and add univisited nodes to the queue. <br>\n",
    "$\\Theta(V + E)$"
   ]
  },
  {
   "cell_type": "markdown",
   "id": "e383e640",
   "metadata": {},
   "source": [
    "BFS(Node v){\n",
    "    Queue queue = new Queue();\n",
    "    queue.enqueue(v);\n",
    "    v.VISITED = true;\n",
    "    while (!queue.isEmpty()){\n",
    "        Node w = queue.dequeue();\n",
    "        for (Node u: w.adjacentNodes){\n",
    "            if (!u.VISITED){\n",
    "                queue.enqueue(u);\n",
    "                u.VISITED = true;\n",
    "            }\n",
    "        }\n",
    "    }\n",
    "}"
   ]
  },
  {
   "cell_type": "markdown",
   "id": "c0cb1c8c",
   "metadata": {},
   "source": [
    "##### Depth First Search: <br>\n",
    "\n",
    "Use the stack data structure. <br>\n",
    "Push the node into the stack, and if there are no adjacent node, backtrack and pop. <br>\n",
    "$\\Theta(V + E)$"
   ]
  },
  {
   "cell_type": "markdown",
   "id": "9a8a0496",
   "metadata": {},
   "source": [
    "DFS(Node v){\n",
    "    Stack stack = new Stack();\n",
    "    stack.push(v);\n",
    "    v.VISITED = true;\n",
    "    while (!stack.isEmpty()){\n",
    "        if(stack.peek().adjacentNodes().isEmpty()){\n",
    "            stack.pop();\n",
    "        } else {\n",
    "            Node w = stack.peek().selectAdjacentNode();\n",
    "            stack.push(w);\n",
    "            w.VISITED = true;\n",
    "        }\n",
    "    }\n",
    "}"
   ]
  },
  {
   "cell_type": "markdown",
   "id": "9f88317b",
   "metadata": {},
   "source": [
    "#### VIII.3 Spanning Trees"
   ]
  },
  {
   "cell_type": "markdown",
   "id": "dbe49169",
   "metadata": {},
   "source": [
    "Tree: connected graph with no cycle. <br>\n",
    "Spanning Tree of a Graph: a tree having all of the nodes in the graph, and having only $n-1$ edges."
   ]
  },
  {
   "cell_type": "markdown",
   "id": "f598184b",
   "metadata": {},
   "source": [
    "DFS Spanning Tree: <br>\n",
    "While doing DFS, add edges to the edges set. <br>\n",
    "BFS Spanning Tree: <br>\n",
    "While doing BFS, add edges to the edges set. <br>"
   ]
  },
  {
   "cell_type": "markdown",
   "id": "0bb06d57",
   "metadata": {},
   "source": [
    "##### Minimum Spanning Tree (In Weighted Graphs): <br>\n",
    "Among all the spanning trees, get the tree that has the least cost. <br>\n",
    "Use Greedy Algorithms $\\rightarrow$ one that takes the least cost in the immediate context."
   ]
  },
  {
   "cell_type": "markdown",
   "id": "93bdf1c6",
   "metadata": {},
   "source": [
    "Prim Algorithm: <br>\n",
    "Mark $v$ as visited. <br>\n",
    "Among the vertices not in the set, find the least-cost edge from a visited vertes to an unvisited vertex. <br>\n",
    "Add the vertex to the set. <br>\n",
    "Reset the vertices cost. <br>\n",
    "$\\rightarrow O(E \\log V) = O(E \\log E)$"
   ]
  },
  {
   "cell_type": "markdown",
   "id": "fea05a8d",
   "metadata": {},
   "source": [
    "Kruscal Algorithm: <br>\n",
    "Start with $n$ sets. <br>\n",
    "Merge sets with the least connection cost. <br>\n",
    "But, if the edge is within the set, do not merge. <br>\n",
    "$\\rightarrow O(E \\log E) = O(E \\log V)$"
   ]
  },
  {
   "cell_type": "markdown",
   "id": "220b7699",
   "metadata": {},
   "source": [
    "#### VIII.4 Topological Sorting"
   ]
  },
  {
   "cell_type": "markdown",
   "id": "e707cbaf",
   "metadata": {},
   "source": [
    "Topological Order: if edge (x -> y) exists, then x takes precedence over y. <br>\n",
    "In a directed graph with no cycles, there are many Topological Orders."
   ]
  },
  {
   "cell_type": "markdown",
   "id": "7e10cb12",
   "metadata": {},
   "source": [
    "Topological Sorting: <br>\n",
    "* Select a node with no incoming edges.\n",
    "* Delete all nodes out going from the node. \n",
    "\n",
    "<br> $\\rightarrow \\Theta(V + E)$"
   ]
  },
  {
   "cell_type": "markdown",
   "id": "2bad1c3e",
   "metadata": {},
   "source": [
    "#### VIII.5 Shortest Path"
   ]
  },
  {
   "cell_type": "markdown",
   "id": "34dac677",
   "metadata": {},
   "source": [
    "In a weighted graph, find the shortest path from a given node to all other nodes. <br>\n",
    "(But no negative cycles)"
   ]
  },
  {
   "cell_type": "markdown",
   "id": "43ce2a9c",
   "metadata": {},
   "source": [
    "##### Dijkstra Algorithm: <br>\n",
    "* No weights are negative.\n",
    "<br>\n",
    "* Make a set of marked vertices.\n",
    "* The starting vertex has a length of 0, and all the other vertices have a length of $\\infty$.\n",
    "* Then calculate the length to the vertices connected to the starting vertex, updating the values. <br>\n",
    "* Then choose the next \"root\" vertex to be the shortest vertex, and update constantly. <br>\n",
    "* Do until all the vertices are marked. <br>\n",
    "$\\rightarrow \\Theta (E \\log V)$"
   ]
  },
  {
   "cell_type": "markdown",
   "id": "801f481d",
   "metadata": {},
   "source": [
    "##### Bellman-Ford Algorithm: <br>\n",
    "* Set all nodes' cast to $\\infty$.\n",
    "* For all edges, find if whether edges can be relaxed, and do so.\n",
    "* This results in the shortest path using $k$ edges.\n",
    "* Repeat it for all the nodes.\n",
    "* If there is a negative loop, return Error. <br>\n",
    "$\\rightarrow \\Theta (EV)$"
   ]
  }
 ],
 "metadata": {
  "kernelspec": {
   "display_name": "Java",
   "language": "java",
   "name": "java"
  },
  "language_info": {
   "codemirror_mode": "java",
   "file_extension": ".jshell",
   "mimetype": "text/x-java-source",
   "name": "Java",
   "pygments_lexer": "java",
   "version": "17.0.2+8-LTS-86"
  }
 },
 "nbformat": 4,
 "nbformat_minor": 5
}
